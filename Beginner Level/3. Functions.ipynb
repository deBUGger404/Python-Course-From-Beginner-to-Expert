{
 "cells": [
  {
   "cell_type": "markdown",
   "id": "82174cb6-ae96-49c9-bdf1-da5bb8a95366",
   "metadata": {},
   "source": [
    "### **Functions in Python** \n",
    "Functions are a fundamental aspect of Python that allow you to encapsulate code into reusable blocks. They help you organize your code, avoid repetition, and make your programs more modular and easier to manage. In this section, we will explore how to define, use, and master functions in Python. \n",
    "#### **1. Introduction to Functions** \n",
    "**Functions** are reusable pieces of code that perform a specific task. They allow you to structure your programs more efficiently and can be invoked as many times as needed. \n",
    "* **Why Use Functions?**\n",
    "    * To break down complex problems into simpler, manageable pieces.\n",
    "    * To avoid repetition by reusing code.\n",
    "    * To improve code readability and maintainability.\n",
    "\n",
    "#### **2. Defining and Calling Functions** \n",
    "Functions are defined using the `def` keyword followed by the function name and parentheses. The code block within the function is indented. \n",
    "\n",
    "* **Basic Function Structure:**"
   ]
  },
  {
   "cell_type": "code",
   "execution_count": 1,
   "id": "37d1a663-9e44-497c-8800-b82045bfa88a",
   "metadata": {},
   "outputs": [],
   "source": [
    "def greet():\n",
    "    print(\"Hello, World!\")"
   ]
  },
  {
   "cell_type": "markdown",
   "id": "74be86e3-23a1-4520-8968-9cac54f9f3cb",
   "metadata": {},
   "source": [
    "> Calling a Function: once defined, function can be called by using its name followed by parentheses."
   ]
  },
  {
   "cell_type": "code",
   "execution_count": 3,
   "id": "89be6250-f5a6-4485-aaa2-68032527e91f",
   "metadata": {},
   "outputs": [
    {
     "name": "stdout",
     "output_type": "stream",
     "text": [
      "Hello, World!\n"
     ]
    }
   ],
   "source": [
    "greet()"
   ]
  },
  {
   "cell_type": "code",
   "execution_count": 4,
   "id": "f713ff91-7426-471c-b51f-4717cb305a94",
   "metadata": {},
   "outputs": [
    {
     "name": "stdout",
     "output_type": "stream",
     "text": [
      "Hello!\n"
     ]
    }
   ],
   "source": [
    "#below are the differenet examples\n",
    "\n",
    "#example 1: Function Without Parameters\n",
    "def say_hello():\n",
    "    print(\"Hello!\")\n",
    "\n",
    "say_hello()"
   ]
  },
  {
   "cell_type": "code",
   "execution_count": 5,
   "id": "28d3ccb8-859a-4402-976e-5ad518e0e6d3",
   "metadata": {},
   "outputs": [
    {
     "name": "stdout",
     "output_type": "stream",
     "text": [
      "Hello, Alice!\n"
     ]
    }
   ],
   "source": [
    "#example 2: Function with Parameters\n",
    "\n",
    "def greet(name):\n",
    "    print(f\"Hello, {name}!\")\n",
    "\n",
    "greet(\"Alice\")"
   ]
  },
  {
   "cell_type": "code",
   "execution_count": 6,
   "id": "060e663b-0b39-4dca-817c-55a5811fc89d",
   "metadata": {},
   "outputs": [
    {
     "name": "stdout",
     "output_type": "stream",
     "text": [
      "Hello, Bob!\n"
     ]
    }
   ],
   "source": [
    "greet(\"Bob\")"
   ]
  },
  {
   "cell_type": "code",
   "execution_count": 8,
   "id": "4591fbf0-1f6b-428a-9bec-0f2375ebb103",
   "metadata": {},
   "outputs": [
    {
     "name": "stdout",
     "output_type": "stream",
     "text": [
      "8\n"
     ]
    }
   ],
   "source": [
    "#example 3: Function with Multiple Parameters\n",
    "\n",
    "def add(a, b):\n",
    "    return a + b\n",
    "\n",
    "result = add(5, 3)\n",
    "print(result)"
   ]
  },
  {
   "cell_type": "markdown",
   "id": "dedc8920-3a86-4dd5-83fd-91f3d261d665",
   "metadata": {},
   "source": [
    "#### **3. Function Return Values** \n",
    "Functions can return a value using the `return` statement. This allows the function to send back a result that can be used later. \n",
    "* **Returning a Value:**"
   ]
  },
  {
   "cell_type": "code",
   "execution_count": 9,
   "id": "cb0d15e8-c8f2-4859-801c-4b35adfe1153",
   "metadata": {},
   "outputs": [
    {
     "name": "stdout",
     "output_type": "stream",
     "text": [
      "16\n"
     ]
    }
   ],
   "source": [
    "def square(x):\n",
    "    return x * x\n",
    "\n",
    "result = square(4)\n",
    "print(result)"
   ]
  },
  {
   "cell_type": "markdown",
   "id": "8f6efcdc-5a5f-4d00-b20b-914afa45446c",
   "metadata": {},
   "source": [
    "* **Returning Multiple Values:** Python functions can return multiple values as a tuple."
   ]
  },
  {
   "cell_type": "code",
   "execution_count": 10,
   "id": "b8c2b526-bf6c-4719-8b11-73e23fc18b79",
   "metadata": {},
   "outputs": [
    {
     "name": "stdout",
     "output_type": "stream",
     "text": [
      "5 3\n"
     ]
    }
   ],
   "source": [
    "#Example 1:\n",
    "\n",
    "def swap(a, b):\n",
    "    return b, a\n",
    "\n",
    "x, y = swap(3, 5)\n",
    "print(x, y)"
   ]
  },
  {
   "cell_type": "code",
   "execution_count": 11,
   "id": "8868c8ae-094b-4041-84fb-13d4f7301065",
   "metadata": {},
   "outputs": [
    {
     "name": "stdout",
     "output_type": "stream",
     "text": [
      "(15, 5, 50)\n"
     ]
    }
   ],
   "source": [
    "#example 2:\n",
    "\n",
    "def calculate(a, b):\n",
    "    sum = a + b\n",
    "    difference = a - b\n",
    "    product = a * b\n",
    "    return sum, difference, product\n",
    "\n",
    "result = calculate(10, 5)\n",
    "print(result)"
   ]
  },
  {
   "cell_type": "markdown",
   "id": "9c3eaa05-4c71-46e4-bce4-729adde7db20",
   "metadata": {},
   "source": [
    "#### **4. Default and Keyword Arguments** \n",
    "Python functions can have default values for parameters. If no argument is passed, the default value is used. \n",
    "\n",
    "* **Default Arguments:**"
   ]
  },
  {
   "cell_type": "code",
   "execution_count": 12,
   "id": "0e291020-57dc-49e9-8735-a7a97e81f982",
   "metadata": {},
   "outputs": [
    {
     "name": "stdout",
     "output_type": "stream",
     "text": [
      "Hello, Guest!\n"
     ]
    }
   ],
   "source": [
    "def greet(name=\"Guest\"):\n",
    "    print(f\"Hello, {name}!\")\n",
    "\n",
    "greet()"
   ]
  },
  {
   "cell_type": "code",
   "execution_count": 13,
   "id": "eef2f1c9-971f-4e4e-ab0c-5c634314e45b",
   "metadata": {},
   "outputs": [
    {
     "name": "stdout",
     "output_type": "stream",
     "text": [
      "Hello, Alice!\n"
     ]
    }
   ],
   "source": [
    "greet(\"Alice\")"
   ]
  },
  {
   "cell_type": "markdown",
   "id": "0f391e91-b9c8-4881-96c8-887112cad957",
   "metadata": {},
   "source": [
    "* **Keyword Arguments:** Arguments can be passed by explicitly naming them, which can make the function calls more readable."
   ]
  },
  {
   "cell_type": "code",
   "execution_count": 14,
   "id": "23231b28-8e66-4999-840a-e6ab627ece28",
   "metadata": {},
   "outputs": [
    {
     "name": "stdout",
     "output_type": "stream",
     "text": [
      "I have a dog named Buddy.\n"
     ]
    }
   ],
   "source": [
    "def describe_pet(animal_type, pet_name):\n",
    "    print(f\"I have a {animal_type} named {pet_name}.\")\n",
    "\n",
    "describe_pet(animal_type=\"dog\", pet_name=\"Buddy\")"
   ]
  },
  {
   "cell_type": "code",
   "execution_count": 15,
   "id": "723a802e-c3a5-4e24-9c98-1f86ce941255",
   "metadata": {},
   "outputs": [
    {
     "name": "stdout",
     "output_type": "stream",
     "text": [
      "I have a cat named Whiskers.\n"
     ]
    }
   ],
   "source": [
    "describe_pet(pet_name=\"Whiskers\", animal_type=\"cat\")"
   ]
  },
  {
   "cell_type": "markdown",
   "id": "5a56f91f-6add-4f17-a105-1430bdcbebb8",
   "metadata": {},
   "source": [
    "#### **5. Arbitrary Arguments** \n",
    "Sometimes, you might not know in advance how many arguments will be passed to a function. Python allows for arbitrary arguments using `*args` and `**kwargs`. \n",
    "* **Arbitrary Positional Arguments (`*args`):**\n",
    "    * These allow you to pass a variable number of arguments to a function, which are received as a tuple."
   ]
  },
  {
   "cell_type": "code",
   "execution_count": 21,
   "id": "75760fd8-e2eb-404a-8ad0-4e3018bd5197",
   "metadata": {},
   "outputs": [
    {
     "name": "stdout",
     "output_type": "stream",
     "text": [
      "24\n"
     ]
    }
   ],
   "source": [
    "#example 1:\n",
    "\n",
    "def multiply(*args):\n",
    "    result = 1\n",
    "    for num in args:\n",
    "        result *= num\n",
    "    return result\n",
    "\n",
    "print(multiply(2, 3, 4))"
   ]
  },
  {
   "cell_type": "code",
   "execution_count": 22,
   "id": "a9da3409-a5a7-4d2f-b2cf-5003af177e92",
   "metadata": {},
   "outputs": [
    {
     "name": "stdout",
     "output_type": "stream",
     "text": [
      "50\n"
     ]
    }
   ],
   "source": [
    "print(multiply(5, 10))"
   ]
  },
  {
   "cell_type": "markdown",
   "id": "7e1ed26b-4ec3-4490-9acf-19b1ec2d66fb",
   "metadata": {},
   "source": [
    "* **Arbitrary Keyword Arguments (`**kwargs`):** \n",
    "    * These allow you to pass a variable number of keyword arguments, which are received as a dictionary."
   ]
  },
  {
   "cell_type": "code",
   "execution_count": 23,
   "id": "0ea581bb-ef25-4d5e-953d-42855b0f4013",
   "metadata": {},
   "outputs": [
    {
     "name": "stdout",
     "output_type": "stream",
     "text": [
      "name: Alice\n",
      "age: 30\n",
      "city: New York\n"
     ]
    }
   ],
   "source": [
    "#example 1:\n",
    "\n",
    "def print_details(**kwargs):\n",
    "    for key, value in kwargs.items():\n",
    "        print(f\"{key}: {value}\")\n",
    "\n",
    "print_details(name=\"Alice\", age=30, city=\"New York\")"
   ]
  },
  {
   "cell_type": "code",
   "execution_count": 24,
   "id": "d1469df7-b7a5-49f2-ab6e-a0054fcd3ffd",
   "metadata": {},
   "outputs": [
    {
     "name": "stdout",
     "output_type": "stream",
     "text": [
      "Good morning\n",
      "Hello, Alice!\n",
      "Hello, Bob!\n",
      "location: Office\n",
      "time: 9 AM\n"
     ]
    }
   ],
   "source": [
    "#example 2: Using Both *args and **kwargs:\n",
    "\n",
    "def full_greeting(greeting, *args, **kwargs):\n",
    "    print(greeting)\n",
    "    for name in args:\n",
    "        print(f\"Hello, {name}!\")\n",
    "    for key, value in kwargs.items():\n",
    "        print(f\"{key}: {value}\")\n",
    "\n",
    "full_greeting(\"Good morning\", \"Alice\", \"Bob\", location=\"Office\", time=\"9 AM\")"
   ]
  },
  {
   "cell_type": "markdown",
   "id": "75ba64bb-b3f4-4871-b6af-91b7f81e1683",
   "metadata": {},
   "source": [
    "#### **6. Variable Scope** \n",
    "**Scope** refers to the region of the code where a variable is accessible. Understanding scope is crucial for managing variables within functions. \n",
    "* **Local vs. Global Variables:**\n",
    "    * **Local Variables:** Defined inside a function and accessible only within that function.\n",
    "    * **Global Variables:** Defined outside all functions and accessible anywhere in the code.\n",
    "\n",
    "**Example 1: Local Scope**"
   ]
  },
  {
   "cell_type": "code",
   "execution_count": 1,
   "id": "912c50f8-c604-4e5b-a08c-31e1e4d323e3",
   "metadata": {},
   "outputs": [
    {
     "name": "stdout",
     "output_type": "stream",
     "text": [
      "10\n"
     ]
    }
   ],
   "source": [
    "# here x defined as Local variable\n",
    "def local_example():\n",
    "    x = 10  \n",
    "    print(x)\n",
    "\n",
    "local_example()"
   ]
  },
  {
   "cell_type": "code",
   "execution_count": 2,
   "id": "c1f288dd-1087-43a4-8c58-2a75ef0d4cef",
   "metadata": {},
   "outputs": [
    {
     "ename": "NameError",
     "evalue": "name 'x' is not defined",
     "output_type": "error",
     "traceback": [
      "\u001b[0;31m---------------------------------------------------------------------------\u001b[0m",
      "\u001b[0;31mNameError\u001b[0m                                 Traceback (most recent call last)",
      "Cell \u001b[0;32mIn[2], line 2\u001b[0m\n\u001b[1;32m      1\u001b[0m \u001b[38;5;66;03m# This would cause an error because x is not defined outside the function\u001b[39;00m\n\u001b[0;32m----> 2\u001b[0m \u001b[38;5;28mprint\u001b[39m(\u001b[43mx\u001b[49m)  \n",
      "\u001b[0;31mNameError\u001b[0m: name 'x' is not defined"
     ]
    }
   ],
   "source": [
    "# This would cause an error because x is not defined outside the function\n",
    "print(x)  "
   ]
  },
  {
   "cell_type": "markdown",
   "id": "1f73a5b9-6a7d-4904-ac99-a3f19150e900",
   "metadata": {},
   "source": [
    "**Example 2: Global Scope**"
   ]
  },
  {
   "cell_type": "code",
   "execution_count": 3,
   "id": "10319d12-8279-4622-b6c3-772640a42959",
   "metadata": {},
   "outputs": [
    {
     "name": "stdout",
     "output_type": "stream",
     "text": [
      "10\n"
     ]
    }
   ],
   "source": [
    "# herex defined as global variable\n",
    "x = 10 \n",
    "def global_example():\n",
    "    print(x)\n",
    "\n",
    "global_example()"
   ]
  },
  {
   "cell_type": "code",
   "execution_count": 4,
   "id": "4994b678-fb5a-4e3e-8b0f-c23125078b26",
   "metadata": {},
   "outputs": [
    {
     "name": "stdout",
     "output_type": "stream",
     "text": [
      "10\n"
     ]
    }
   ],
   "source": [
    "print(x)"
   ]
  },
  {
   "cell_type": "code",
   "execution_count": 5,
   "id": "eac1540c-2079-4dd2-bbab-49ba447c90a4",
   "metadata": {},
   "outputs": [],
   "source": [
    "# Example 3: defined Global Variables Inside a Function\n",
    "x = 10\n",
    "\n",
    "def modify_global():\n",
    "    global x # global variable\n",
    "    x = 20\n",
    "\n",
    "modify_global()"
   ]
  },
  {
   "cell_type": "code",
   "execution_count": 6,
   "id": "f59a7a75-3b63-46e5-9edc-02c0946eafe7",
   "metadata": {},
   "outputs": [
    {
     "name": "stdout",
     "output_type": "stream",
     "text": [
      "20\n"
     ]
    }
   ],
   "source": [
    "print(x)"
   ]
  },
  {
   "cell_type": "markdown",
   "id": "d5c386dc-430a-4c88-8145-b5f3ece9e16f",
   "metadata": {},
   "source": [
    "#### **7. Higher-Order Functions** \n",
    "**Higher-order functions** are functions that take other functions as arguments or return them as results. This allows for more abstract and powerful code."
   ]
  },
  {
   "cell_type": "code",
   "execution_count": 7,
   "id": "d1bea1b4-4a46-4c5b-b60e-de66f712387a",
   "metadata": {},
   "outputs": [
    {
     "name": "stdout",
     "output_type": "stream",
     "text": [
      "15\n"
     ]
    }
   ],
   "source": [
    "#example 1: Passing a Function as an Argument\n",
    "\n",
    "def apply_operation(operation, a, b):\n",
    "    return operation(a, b)\n",
    "\n",
    "def add(x, y):\n",
    "    return x + y\n",
    "\n",
    "def subtract(x, y):\n",
    "    return x - y\n",
    "\n",
    "result = apply_operation(add, 10, 5)\n",
    "print(result)"
   ]
  },
  {
   "cell_type": "code",
   "execution_count": 8,
   "id": "76965289-158c-4651-90ed-69ac753bf54f",
   "metadata": {},
   "outputs": [
    {
     "name": "stdout",
     "output_type": "stream",
     "text": [
      "5\n"
     ]
    }
   ],
   "source": [
    "result = apply_operation(subtract, 10, 5)\n",
    "print(result)"
   ]
  },
  {
   "cell_type": "code",
   "execution_count": 9,
   "id": "8cc246d6-7a88-4588-adfd-537995bbd8d0",
   "metadata": {},
   "outputs": [
    {
     "name": "stdout",
     "output_type": "stream",
     "text": [
      "10\n"
     ]
    }
   ],
   "source": [
    "#example 2: Returning a Function\n",
    "\n",
    "def multiplier(factor):\n",
    "    def multiply(number):\n",
    "        return number * factor\n",
    "    return multiply\n",
    "\n",
    "double = multiplier(2)\n",
    "triple = multiplier(3)\n",
    "\n",
    "print(double(5))"
   ]
  },
  {
   "cell_type": "code",
   "execution_count": 10,
   "id": "990ad389-e04e-4ee3-b058-da2a9aac6050",
   "metadata": {},
   "outputs": [
    {
     "name": "stdout",
     "output_type": "stream",
     "text": [
      "15\n"
     ]
    }
   ],
   "source": [
    "print(triple(5))"
   ]
  },
  {
   "cell_type": "markdown",
   "id": "e5cf993f-401d-4cf1-a23a-47652a1b3bfa",
   "metadata": {},
   "source": [
    "#### **8. Lambda Functions** \n",
    "**Lambda functions** are small anonymous functions defined using the `lambda` keyword. They are often used for short, throwaway functions that are not reused."
   ]
  },
  {
   "cell_type": "code",
   "execution_count": 11,
   "id": "4acd6944-488d-4f69-a885-25c0a0a0e396",
   "metadata": {},
   "outputs": [],
   "source": [
    "#example 1: Basic Lambda Function"
   ]
  },
  {
   "cell_type": "code",
   "execution_count": 12,
   "id": "ea9a23aa-adbc-43cb-bf69-5991254fedb3",
   "metadata": {},
   "outputs": [
    {
     "name": "stdout",
     "output_type": "stream",
     "text": [
      "25\n"
     ]
    }
   ],
   "source": [
    "square = lambda x: x * x\n",
    "print(square(5))"
   ]
  },
  {
   "cell_type": "code",
   "execution_count": 13,
   "id": "2d7b17b4-e1e8-4d88-ba49-d9a802f1287f",
   "metadata": {},
   "outputs": [
    {
     "name": "stdout",
     "output_type": "stream",
     "text": [
      "10\n"
     ]
    }
   ],
   "source": [
    "#example 2: Lambda Function with Multiple Arguments\n",
    "\n",
    "add = lambda a, b: a + b\n",
    "print(add(3, 7)) "
   ]
  },
  {
   "cell_type": "code",
   "execution_count": 14,
   "id": "b36100d7-4f8a-45e8-90d0-d57056f36439",
   "metadata": {},
   "outputs": [
    {
     "name": "stdout",
     "output_type": "stream",
     "text": [
      "[1, 4, 9, 16, 25]\n"
     ]
    }
   ],
   "source": [
    "#example 3: Using Lambda in Higher-Order Functions\n",
    "\n",
    "numbers = [1, 2, 3, 4, 5]\n",
    "squared_numbers = list(map(lambda x: x * x, numbers))\n",
    "print(squared_numbers)"
   ]
  },
  {
   "cell_type": "markdown",
   "id": "b3c362e3-a093-456f-80a9-18793e9ef470",
   "metadata": {},
   "source": [
    "#### **9. Recursion** \n",
    "**Recursion** is a technique where a function calls itself to solve smaller instances of the same problem. It is especially useful for problems that can be broken down into similar subproblems."
   ]
  },
  {
   "cell_type": "code",
   "execution_count": 15,
   "id": "92960d6f-676f-49f7-927a-a8ac5d850ae9",
   "metadata": {},
   "outputs": [
    {
     "name": "stdout",
     "output_type": "stream",
     "text": [
      "120\n"
     ]
    }
   ],
   "source": [
    "#example 1: Factorial Calculation\n",
    "\n",
    "def factorial(n):\n",
    "    if n == 1:\n",
    "        return 1\n",
    "    else:\n",
    "        return n * factorial(n - 1)\n",
    "\n",
    "print(factorial(5))"
   ]
  },
  {
   "cell_type": "code",
   "execution_count": 16,
   "id": "f7cc1564-fb36-4633-820b-53a9210b4d41",
   "metadata": {},
   "outputs": [
    {
     "name": "stdout",
     "output_type": "stream",
     "text": [
      "8\n"
     ]
    }
   ],
   "source": [
    "#example 2: Fibonacci Sequence\n",
    "\n",
    "def fibonacci(n):\n",
    "    if n <= 1:\n",
    "        return n\n",
    "    else:\n",
    "        return fibonacci(n-1) + fibonacci(n-2)\n",
    "\n",
    "print(fibonacci(6))"
   ]
  },
  {
   "cell_type": "code",
   "execution_count": 17,
   "id": "686f8246-4699-4633-a412-9e0887789104",
   "metadata": {},
   "outputs": [
    {
     "name": "stdout",
     "output_type": "stream",
     "text": [
      "10\n"
     ]
    }
   ],
   "source": [
    "#example 3: Sum of a List Using Recursion\n",
    "\n",
    "def sum_list(lst):\n",
    "    if not lst:\n",
    "        return 0\n",
    "    else:\n",
    "        return lst[0] + sum_list(lst[1:])\n",
    "\n",
    "print(sum_list([1, 2, 3, 4]))"
   ]
  },
  {
   "cell_type": "markdown",
   "id": "26d86807-9c3d-46c4-8778-f01ce074f2c6",
   "metadata": {},
   "source": [
    "#### **10. Docstrings** \n",
    "**Docstrings** are used to document functions, explaining what they do, their parameters, and return values. This helps others (and yourself) understand your code."
   ]
  },
  {
   "cell_type": "code",
   "execution_count": 18,
   "id": "975c4bb5-bb37-4827-9243-1f47e174e9e7",
   "metadata": {},
   "outputs": [
    {
     "name": "stdout",
     "output_type": "stream",
     "text": [
      "Hello, Alice!\n",
      "This function greets the person whose name is passed as a parameter.\n"
     ]
    }
   ],
   "source": [
    "#xample 1: Simple Docstring\n",
    "\n",
    "def greet(name):\n",
    "    \"\"\"This function greets the person whose name is passed as a parameter.\"\"\"\n",
    "    print(f\"Hello, {name}!\")\n",
    "\n",
    "greet(\"Alice\")\n",
    "print(greet.__doc__)"
   ]
  },
  {
   "cell_type": "code",
   "execution_count": 20,
   "id": "7c216a95-1897-4ae5-b56e-b0ade45a5088",
   "metadata": {},
   "outputs": [
    {
     "name": "stdout",
     "output_type": "stream",
     "text": [
      "8\n",
      "===========\n",
      "\n",
      "    Adds two numbers and returns the result.\n",
      "    \n",
      "    Parameters:\n",
      "    a (int or float): The first number.\n",
      "    b (int or float): The second number.\n",
      "    \n",
      "    Returns:\n",
      "    int or float: The sum of the two numbers.\n",
      "    \n"
     ]
    }
   ],
   "source": [
    "#example 2: Detailed Docstring\n",
    "\n",
    "def add(a, b):\n",
    "    \"\"\"\n",
    "    Adds two numbers and returns the result.\n",
    "    \n",
    "    Parameters:\n",
    "    a (int or float): The first number.\n",
    "    b (int or float): The second number.\n",
    "    \n",
    "    Returns:\n",
    "    int or float: The sum of the two numbers.\n",
    "    \"\"\"\n",
    "    return a + b\n",
    "\n",
    "print(add(3, 5))\n",
    "print('===========')\n",
    "print(add.__doc__)"
   ]
  },
  {
   "cell_type": "markdown",
   "id": "c22566e2-57b7-43a8-a354-b7c38e08fe18",
   "metadata": {},
   "source": [
    "In this tutorial, we've explored the key aspects of functions in Python, including how to define, call, and use functions with parameters and return values. We also covered advanced concepts like `higher-order functions`, `lambda expressions`, `recursion`, and the importance of `variable scope` and `docstrings`. Mastering these concepts will help you write modular, reusable, and efficient code."
   ]
  },
  {
   "cell_type": "markdown",
   "id": "4d4bfc95-e7d1-4f11-83f9-e98845e8786b",
   "metadata": {},
   "source": [
    "<div style=\"text-align: center;\">\n",
    "  <a href=\"https://github.com/deBUGger404\" target=\"_blank\">\n",
    "    <img src=\"../Data/happy_code.webp\" alt=\"Happy Code\" style=\"width:200px; border-radius:12px;\">\n",
    "  </a>\n",
    "</div>"
   ]
  }
 ],
 "metadata": {
  "kernelspec": {
   "display_name": "Python (ml_proj_env)",
   "language": "python",
   "name": "ml_proj_env"
  },
  "language_info": {
   "codemirror_mode": {
    "name": "ipython",
    "version": 3
   },
   "file_extension": ".py",
   "mimetype": "text/x-python",
   "name": "python",
   "nbconvert_exporter": "python",
   "pygments_lexer": "ipython3",
   "version": "3.12.4"
  }
 },
 "nbformat": 4,
 "nbformat_minor": 5
}
