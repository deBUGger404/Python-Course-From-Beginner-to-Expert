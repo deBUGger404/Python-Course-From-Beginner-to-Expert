{
 "cells": [
  {
   "cell_type": "markdown",
   "id": "db8d37d9-ca52-4525-a571-3b162bc2e78d",
   "metadata": {},
   "source": [
    "### **Working with Strings in Python** \n",
    "Strings are a fundamental data type in Python, representing sequences of characters. Working with strings efficiently is crucial for tasks like text processing, data manipulation, and more. In this tutorial, we'll explore various operations and techniques for working with strings. \n",
    "#### **1. Introduction to Strings** \n",
    "A **string** in Python is a sequence of characters enclosed within single quotes (`'`), double quotes (`\"`), or triple quotes (`'''` or `\"\"\"`). Strings are immutable, meaning they cannot be changed after they are created."
   ]
  },
  {
   "cell_type": "markdown",
   "id": "82a74962-5011-46e9-ba98-6d797bdb26fb",
   "metadata": {},
   "source": [
    "**example 1: Creating Strings**\n",
    "\n",
    "```python\n",
    "single_quoted = 'Hello, World!' \n",
    "double_quoted = \"Hello, World!\"\n",
    "triple_quoted = '''This is a string\n",
    "that spans multiple lines.'''\n",
    "```"
   ]
  },
  {
   "cell_type": "code",
   "execution_count": 5,
   "id": "82ceceb9-d065-452d-a9bf-2f9a01e3ab92",
   "metadata": {},
   "outputs": [
    {
     "name": "stdout",
     "output_type": "stream",
     "text": [
      "escaped_string: He said, \"Python is awesome!\"\n",
      "\n",
      "newline_string: First line\n",
      "Second line\n",
      "\n",
      "tabbed_string: Column1\tColumn2\tColumn3\n"
     ]
    }
   ],
   "source": [
    "##Example 2: Strings with Special Characters\n",
    "\n",
    "escaped_string = \"He said, \\\"Python is awesome!\\\"\"\n",
    "newline_string = \"First line\\nSecond line\"\n",
    "tabbed_string = \"Column1\\tColumn2\\tColumn3\"\n",
    "\n",
    "print('escaped_string:', escaped_string)\n",
    "print('\\nnewline_string:', newline_string)\n",
    "print('\\ntabbed_string:', tabbed_string)"
   ]
  },
  {
   "cell_type": "markdown",
   "id": "7e956e37-adbe-4828-854d-c4eea4567d32",
   "metadata": {},
   "source": [
    "#### **2\\. String Indexing and Slicing** \n",
    "Python strings can be indexed and sliced to access specific characters or substrings. \n",
    "* **Indexing:** Accessing a specific character using its position (starting from 0)."
   ]
  },
  {
   "cell_type": "code",
   "execution_count": 6,
   "id": "e2d6e29b-0259-4bed-804f-fa3320d81180",
   "metadata": {},
   "outputs": [
    {
     "name": "stdout",
     "output_type": "stream",
     "text": [
      "first_letter: P\n",
      "last_letter: n\n"
     ]
    }
   ],
   "source": [
    "#example 1: Accessing Characters\n",
    "\n",
    "text = \"Python\"\n",
    "first_letter = text[0]\n",
    "last_letter = text[-1]\n",
    "\n",
    "print('first_letter:',first_letter)\n",
    "print('last_letter:',last_letter)"
   ]
  },
  {
   "cell_type": "code",
   "execution_count": 7,
   "id": "d146f643-05d6-42dd-a8df-0b461b6e79c2",
   "metadata": {},
   "outputs": [
    {
     "data": {
      "text/plain": [
       "'o'"
      ]
     },
     "execution_count": 7,
     "metadata": {},
     "output_type": "execute_result"
    }
   ],
   "source": [
    "#example 2: Accessing with Negative Indexing\n",
    "\n",
    "text = \"Python\"\n",
    "second_last_letter = text[-2]\n",
    "second_last_letter"
   ]
  },
  {
   "cell_type": "markdown",
   "id": "86e316e1-ccc6-4961-9e64-5a7e56b665bf",
   "metadata": {},
   "source": [
    "* **Slicing:** Extracting a portion of a string using a range of indices."
   ]
  },
  {
   "cell_type": "code",
   "execution_count": 8,
   "id": "85a45dc3-23eb-4ecd-a00d-165b65a45fea",
   "metadata": {},
   "outputs": [
    {
     "data": {
      "text/plain": [
       "'Pyt'"
      ]
     },
     "execution_count": 8,
     "metadata": {},
     "output_type": "execute_result"
    }
   ],
   "source": [
    "#example 1: Basic Slicing\n",
    "\n",
    "text = \"Python\"\n",
    "first_three = text[0:3] \n",
    "first_three"
   ]
  },
  {
   "cell_type": "code",
   "execution_count": 9,
   "id": "2a549d80-34f3-495b-bc1e-a99949b163c4",
   "metadata": {},
   "outputs": [
    {
     "data": {
      "text/plain": [
       "'Pto'"
      ]
     },
     "execution_count": 9,
     "metadata": {},
     "output_type": "execute_result"
    }
   ],
   "source": [
    "#example 2: Slicing with Step\n",
    "\n",
    "text = \"Python\"\n",
    "every_second_letter = text[::2]\n",
    "every_second_letter"
   ]
  },
  {
   "cell_type": "code",
   "execution_count": 10,
   "id": "be2f2477-2e05-44d7-ad2e-af1c7d9d3398",
   "metadata": {},
   "outputs": [
    {
     "data": {
      "text/plain": [
       "'nohtyP'"
      ]
     },
     "execution_count": 10,
     "metadata": {},
     "output_type": "execute_result"
    }
   ],
   "source": [
    "#example 3: Reversing a String with Slicing\n",
    "\n",
    "text = \"Python\"\n",
    "reversed_text = text[::-1]\n",
    "reversed_text"
   ]
  },
  {
   "cell_type": "markdown",
   "id": "fcf700f2-4268-4288-aac4-a3ad3403e710",
   "metadata": {},
   "source": [
    "#### **3\\. Common String Methods** \n",
    "Python provides many built-in methods for string manipulation. Here are some of the most commonly used methods: \n",
    "* **Changing Case:**"
   ]
  },
  {
   "cell_type": "code",
   "execution_count": 11,
   "id": "7b478b85-0073-4cec-8256-f6a69dbf2d21",
   "metadata": {},
   "outputs": [
    {
     "name": "stdout",
     "output_type": "stream",
     "text": [
      "PYTHON IS FUN\n",
      "python is fun\n"
     ]
    }
   ],
   "source": [
    "#example 1: Upper and Lower Case\n",
    "\n",
    "text = \"Python is Fun\"\n",
    "print(text.upper())\n",
    "print(text.lower())"
   ]
  },
  {
   "cell_type": "code",
   "execution_count": 12,
   "id": "bdffd8d4-d85a-4e63-b4e0-b7a2794acba0",
   "metadata": {},
   "outputs": [
    {
     "name": "stdout",
     "output_type": "stream",
     "text": [
      "Python programming\n",
      "Python Programming\n"
     ]
    }
   ],
   "source": [
    "#Example 2: Capitalize and Title Case\n",
    "\n",
    "text = \"python programming\"\n",
    "print(text.capitalize())\n",
    "print(text.title()) "
   ]
  },
  {
   "cell_type": "markdown",
   "id": "47856a74-1e87-4c9d-b337-a37dd26fd8d5",
   "metadata": {},
   "source": [
    "* **Stripping Whitespace:**"
   ]
  },
  {
   "cell_type": "code",
   "execution_count": 13,
   "id": "2e84de2b-b55b-4d1b-ad49-5fcfdba7d879",
   "metadata": {},
   "outputs": [
    {
     "name": "stdout",
     "output_type": "stream",
     "text": [
      "Hello, World!\n",
      "Hello, World!   \n",
      "   Hello, World!\n"
     ]
    }
   ],
   "source": [
    "#Example 1: Strip Leading and Trailing Whitespace\n",
    "\n",
    "text = \"   Hello, World!   \"\n",
    "print(text.strip()) \n",
    "print(text.lstrip()) # 'Hello, World!   '\n",
    "print(text.rstrip())"
   ]
  },
  {
   "cell_type": "markdown",
   "id": "6ff4abde-64ae-4eff-9735-0f49c4c56702",
   "metadata": {},
   "source": [
    "* **Finding and Replacing:**"
   ]
  },
  {
   "cell_type": "code",
   "execution_count": 14,
   "id": "5b8485f6-f07e-45d7-a3f9-01824d35ba36",
   "metadata": {},
   "outputs": [
    {
     "name": "stdout",
     "output_type": "stream",
     "text": [
      "7\n",
      "-1\n"
     ]
    }
   ],
   "source": [
    "#Example 1: Finding Substrings\n",
    "\n",
    "text = \"Hello, World!\"\n",
    "print(text.find(\"World\")) \n",
    "print(text.find(\"Python\"))"
   ]
  },
  {
   "cell_type": "code",
   "execution_count": 15,
   "id": "83066fff-9c7a-47e0-8d08-2f62e7277d0d",
   "metadata": {},
   "outputs": [
    {
     "name": "stdout",
     "output_type": "stream",
     "text": [
      "Hello, Python!\n"
     ]
    }
   ],
   "source": [
    "#Example 2: Replacing Substrings\n",
    "\n",
    "text = \"Hello, World!\"\n",
    "print(text.replace(\"World\", \"Python\"))"
   ]
  },
  {
   "cell_type": "markdown",
   "id": "d7203bc6-afae-499e-8a0c-adc625c72110",
   "metadata": {},
   "source": [
    "* **Splitting and Joining:**"
   ]
  },
  {
   "cell_type": "code",
   "execution_count": 17,
   "id": "55de5367-bef2-47eb-91ec-64cebd3c1a3f",
   "metadata": {},
   "outputs": [
    {
     "data": {
      "text/plain": [
       "['Python', 'is', 'fun']"
      ]
     },
     "execution_count": 17,
     "metadata": {},
     "output_type": "execute_result"
    }
   ],
   "source": [
    "#Example 1: Splitting Strings\n",
    "\n",
    "text = \"Python is fun\"\n",
    "words = text.split()\n",
    "words"
   ]
  },
  {
   "cell_type": "code",
   "execution_count": 18,
   "id": "7ed7bf39-80e5-4de0-8d25-bbeedec64192",
   "metadata": {},
   "outputs": [
    {
     "data": {
      "text/plain": [
       "'Python is fun'"
      ]
     },
     "execution_count": 18,
     "metadata": {},
     "output_type": "execute_result"
    }
   ],
   "source": [
    "#Example 2: Joining Strings\n",
    "\n",
    "words = ['Python', 'is', 'fun']\n",
    "sentence = \" \".join(words)\n",
    "sentence"
   ]
  },
  {
   "cell_type": "markdown",
   "id": "c6989ebc-1eb9-4515-874b-8c64a2d60238",
   "metadata": {},
   "source": [
    "#### **4\\. String Formatting** \n",
    "String formatting is used to create strings that contain dynamic content. Python supports several methods for string formatting. \n",
    "* **Using `%` Operator:**"
   ]
  },
  {
   "cell_type": "code",
   "execution_count": 19,
   "id": "a8b57dd9-eea2-4f5f-b2f2-7ac41e7a37b3",
   "metadata": {},
   "outputs": [
    {
     "name": "stdout",
     "output_type": "stream",
     "text": [
      "My name is Alice and I am 30 years old.\n"
     ]
    }
   ],
   "source": [
    "#Example 1: Basic Formatting\n",
    "\n",
    "name = \"Alice\"\n",
    "age = 30\n",
    "print(\"My name is %s and I am %d years old.\" % (name, age))"
   ]
  },
  {
   "cell_type": "markdown",
   "id": "57739311-cfce-4bb9-b2a4-5e361359c846",
   "metadata": {},
   "source": [
    "* **Using `format()` Method:**"
   ]
  },
  {
   "cell_type": "code",
   "execution_count": 20,
   "id": "dc24e558-d99a-43e3-bb8f-2616c0d36d16",
   "metadata": {},
   "outputs": [
    {
     "name": "stdout",
     "output_type": "stream",
     "text": [
      "My name is Alice and I am 30 years old.\n"
     ]
    }
   ],
   "source": [
    "#Example 1: Positional Formatting\n",
    "\n",
    "name = \"Alice\"\n",
    "age = 30\n",
    "print(\"My name is {} and I am {} years old.\".format(name, age))"
   ]
  },
  {
   "cell_type": "code",
   "execution_count": 21,
   "id": "e1a4b15e-a2e6-427b-9a18-a9742fcfb315",
   "metadata": {},
   "outputs": [
    {
     "name": "stdout",
     "output_type": "stream",
     "text": [
      "My name is Alice and I am 30 years old.\n"
     ]
    }
   ],
   "source": [
    "#Example 2: Named Placeholders\n",
    "\n",
    "print(\"My name is {name} and I am {age} years old.\".format(name=\"Alice\", age=30))"
   ]
  },
  {
   "cell_type": "markdown",
   "id": "ab7f867c-de87-4bf3-a6e6-3f286f0fdad9",
   "metadata": {},
   "source": [
    "* **Using f-Strings (Python 3.6+):**"
   ]
  },
  {
   "cell_type": "code",
   "execution_count": 22,
   "id": "6f9e599c-51ad-45c1-a853-ad98199d5fb9",
   "metadata": {},
   "outputs": [
    {
     "name": "stdout",
     "output_type": "stream",
     "text": [
      "My name is Alice and I am 30 years old.\n"
     ]
    }
   ],
   "source": [
    "#Example 1: Basic f-String Formatting\n",
    "\n",
    "name = \"Alice\"\n",
    "age = 30\n",
    "print(f\"My name is {name} and I am {age} years old.\")"
   ]
  },
  {
   "cell_type": "code",
   "execution_count": 23,
   "id": "f2ee1f96-cfb8-46ec-b0a4-2a9ca2ad5325",
   "metadata": {},
   "outputs": [
    {
     "name": "stdout",
     "output_type": "stream",
     "text": [
      "The discounted price is $39.99.\n"
     ]
    }
   ],
   "source": [
    "#Example 2: Expressions in f-Strings\n",
    "\n",
    "price = 49.99\n",
    "discount = 0.2\n",
    "print(f\"The discounted price is ${price * (1 - discount):.2f}.\")"
   ]
  },
  {
   "cell_type": "markdown",
   "id": "9ffd095e-b517-4ce8-8125-2ea2ee424527",
   "metadata": {},
   "source": [
    "#### **5\\. String Immutability and Concatenation** \n",
    "Strings in Python are **immutable**, meaning once created, they cannot be modified. Any operation that modifies a string returns a new string. \n",
    "* **Concatenation:** Combining strings using the `+` operator or `join()` method."
   ]
  },
  {
   "cell_type": "code",
   "execution_count": 24,
   "id": "8a1ba2f8-30f8-48d8-b130-d51e67fc28ec",
   "metadata": {},
   "outputs": [
    {
     "name": "stdout",
     "output_type": "stream",
     "text": [
      "Hello, Alice!\n"
     ]
    }
   ],
   "source": [
    "#Example 1: Basic Concatenation\n",
    "\n",
    "greeting = \"Hello\"\n",
    "name = \"Alice\"\n",
    "full_greeting = greeting + \", \" + name + \"!\"\n",
    "print(full_greeting)"
   ]
  },
  {
   "cell_type": "code",
   "execution_count": 25,
   "id": "1994d8d9-aebe-4359-8ab1-adab771fbe27",
   "metadata": {},
   "outputs": [
    {
     "name": "stdout",
     "output_type": "stream",
     "text": [
      "Hello, Alice!\n"
     ]
    }
   ],
   "source": [
    "#Example 2: Concatenation Using join()\n",
    "\n",
    "words = [\"Hello\", \"Alice\"]\n",
    "sentence = \", \".join(words) + \"!\"\n",
    "print(sentence)"
   ]
  },
  {
   "cell_type": "code",
   "execution_count": 27,
   "id": "d4911273-c64a-40af-879c-e91773956d0a",
   "metadata": {},
   "outputs": [
    {
     "name": "stdout",
     "output_type": "stream",
     "text": [
      "hello\n"
     ]
    }
   ],
   "source": [
    "#Immutability Example: Attempting to Modify a String\n",
    "\n",
    "text = \"Hello\"\n",
    "# text[0] = \"h\"  # This will raise an error\n",
    "modified_text = \"h\" + text[1:]\n",
    "print(modified_text)"
   ]
  },
  {
   "cell_type": "markdown",
   "id": "a89dab79-50ff-4033-9514-eaf89a58ce65",
   "metadata": {},
   "source": [
    "#### **6\\. Working with Multiline Strings** \n",
    "Multiline strings are created using triple quotes (`'''` or `\"\"\"`). They are useful for storing large blocks of text or when the string spans multiple lines."
   ]
  },
  {
   "cell_type": "code",
   "execution_count": 28,
   "id": "49cb8af1-35f5-4e08-a364-e327903d73ea",
   "metadata": {},
   "outputs": [
    {
     "name": "stdout",
     "output_type": "stream",
     "text": [
      "This is a string\n",
      "that spans across\n",
      "multiple lines.\n"
     ]
    }
   ],
   "source": [
    "#Example 1: Creating a Multiline String\n",
    "\n",
    "multiline_text = \"\"\"This is a string\n",
    "that spans across\n",
    "multiple lines.\"\"\"\n",
    "print(multiline_text)"
   ]
  },
  {
   "cell_type": "code",
   "execution_count": 29,
   "id": "04a8e4dc-9a39-4ef4-9cbb-4d838864815b",
   "metadata": {},
   "outputs": [
    {
     "name": "stdout",
     "output_type": "stream",
     "text": [
      "Line one\n",
      "Line two\n",
      "Line three\n"
     ]
    }
   ],
   "source": [
    "#Example 2: Preserving Line Breaks\n",
    "\n",
    "text = \"\"\"Line one\n",
    "Line two\n",
    "Line three\"\"\"\n",
    "print(text)"
   ]
  },
  {
   "cell_type": "code",
   "execution_count": 30,
   "id": "a44f7ea1-df2f-4493-927b-0200a1e79cc9",
   "metadata": {},
   "outputs": [
    {
     "data": {
      "text/plain": [
       "'\\nThis is a multiline comment\\nor a string that can be used\\nas a block of text.\\n'"
      ]
     },
     "execution_count": 30,
     "metadata": {},
     "output_type": "execute_result"
    }
   ],
   "source": [
    "#Example 3: Using Multiline Strings as Comments\n",
    "\n",
    "\"\"\"\n",
    "This is a multiline comment\n",
    "or a string that can be used\n",
    "as a block of text.\n",
    "\"\"\""
   ]
  },
  {
   "cell_type": "markdown",
   "id": "e7022deb-9daa-48d3-9e98-a96bba4820fe",
   "metadata": {},
   "source": [
    "#### **7\\. String Comparison and Membership** \n",
    "Python allows you to compare strings and check for the presence of substrings within a string. \n",
    "* **String Comparison:**"
   ]
  },
  {
   "cell_type": "code",
   "execution_count": 31,
   "id": "22933ced-1977-406d-a9eb-7f23e0410ae9",
   "metadata": {},
   "outputs": [
    {
     "name": "stdout",
     "output_type": "stream",
     "text": [
      "False\n",
      "True\n"
     ]
    }
   ],
   "source": [
    "#Example 1: Comparing Strings\n",
    "\n",
    "string1 = \"apple\"\n",
    "string2 = \"banana\"\n",
    "print(string1 == string2)\n",
    "print(string1 < string2)"
   ]
  },
  {
   "cell_type": "code",
   "execution_count": 32,
   "id": "9a1aec90-4eeb-466d-81e9-1c35c6c21a8e",
   "metadata": {},
   "outputs": [
    {
     "name": "stdout",
     "output_type": "stream",
     "text": [
      "True\n"
     ]
    }
   ],
   "source": [
    "#Example 2: Case-Insensitive Comparison\n",
    "\n",
    "string1 = \"Python\"\n",
    "string2 = \"python\"\n",
    "print(string1.lower() == string2.lower())"
   ]
  },
  {
   "cell_type": "markdown",
   "id": "97bc72f9-f6b9-414c-af9e-3cfcc5a19705",
   "metadata": {},
   "source": [
    "* **Membership Operators:**"
   ]
  },
  {
   "cell_type": "code",
   "execution_count": 33,
   "id": "87ce2837-af7a-4510-b39a-05b26dca0925",
   "metadata": {},
   "outputs": [
    {
     "name": "stdout",
     "output_type": "stream",
     "text": [
      "True\n",
      "False\n"
     ]
    }
   ],
   "source": [
    "#Example 1: Checking Substring Presence\n",
    "\n",
    "text = \"Python is fun\"\n",
    "print(\"Python\" in text)\n",
    "print(\"Java\" in text)"
   ]
  },
  {
   "cell_type": "code",
   "execution_count": 34,
   "id": "7bcf097d-f77b-4a0f-b2f2-0b6cfc28d1e1",
   "metadata": {},
   "outputs": [
    {
     "name": "stdout",
     "output_type": "stream",
     "text": [
      "True\n"
     ]
    }
   ],
   "source": [
    "#Example 2: Using not in\n",
    "\n",
    "text = \"Learning Python\"\n",
    "print(\"Java\" not in text)"
   ]
  },
  {
   "cell_type": "markdown",
   "id": "f427c6d3-0232-4a12-bbbe-faed75fe8f71",
   "metadata": {},
   "source": [
    "## Python String Methods\n",
    "\n",
    "| **Method**         | **Description**                                                         | **Example**                             |\n",
    "|:------------------:|:------------------------------------------------------------------------|:----------------------------------------|\n",
    "| `capitalize()`     | Converts the first character to uppercase.                              | `\"hello\".capitalize()`                  |\n",
    "| `casefold()`       | Converts string to lowercase, more aggressive than `lower()`.           | `\"HELLO\".casefold()`                    |\n",
    "| `center(width)`    | Centers the string within the specified width.                          | `\"hello\".center(10)`                    |\n",
    "| `count(substring)` | Returns the number of occurrences of a substring.                       | `\"hello world\".count(\"o\")`              |\n",
    "| `encode()`         | Encodes the string using the specified encoding.                        | `\"hello\".encode()`                      |\n",
    "| `endswith(suffix)` | Returns `True` if the string ends with the specified suffix.            | `\"hello\".endswith(\"o\")`                 |\n",
    "| `expandtabs()`     | Expands tabs in the string to spaces.                                   | `\"hello\\tworld\".expandtabs(4)`          |\n",
    "| `find(substring)`  | Returns the lowest index of the substring, or `-1` if not found.        | `\"hello\".find(\"e\")`                     |\n",
    "| `format(*args, **kwargs)` | Formats the string using placeholders.                           | `\"Hello, {}\".format(\"Alice\")`           |\n",
    "| `index(substring)` | Returns the lowest index of the substring, raises an error if not found.| `\"hello\".index(\"e\")`                    |\n",
    "| `isalnum()`        | Returns `True` if the string is alphanumeric.                           | `\"hello123\".isalnum()`                  |\n",
    "| `isalpha()`        | Returns `True` if the string is alphabetic.                             | `\"hello\".isalpha()`                     |\n",
    "| `isdecimal()`      | Returns `True` if the string contains only decimal characters.          | `\"123\".isdecimal()`                     |\n",
    "| `isdigit()`        | Returns `True` if the string contains only digits.                      | `\"123\".isdigit()`                       |\n",
    "| `isidentifier()`   | Returns `True` if the string is a valid Python identifier.              | `\"variable_name\".isidentifier()`        |\n",
    "| `islower()`        | Returns `True` if all characters in the string are lowercase.           | `\"hello\".islower()`                     |\n",
    "| `isnumeric()`      | Returns `True` if the string contains only numeric characters.          | `\"123\".isnumeric()`                     |\n",
    "| `isprintable()`    | Returns `True` if all characters in the string are printable.           | `\"hello\".isprintable()`                 |\n",
    "| `isspace()`        | Returns `True` if the string contains only whitespace.                  | `\"   \".isspace()`                       |\n",
    "| `istitle()`        | Returns `True` if the string is titlecased.                             | `\"Hello World\".istitle()`               |\n",
    "| `isupper()`        | Returns `True` if all characters in the string are uppercase.           | `\"HELLO\".isupper()`                     |\n",
    "| `join(iterable)`   | Joins elements of an iterable with the string as a separator.           | `\",\".join([\"a\", \"b\", \"c\"])`             |\n",
    "| `ljust(width)`     | Left-justifies the string in a field of the specified width.            | `\"hello\".ljust(10)`                     |\n",
    "| `lower()`          | Converts the string to lowercase.                                       | `\"HELLO\".lower()`                       |\n",
    "| `lstrip()`         | Removes leading whitespace or specified characters.                    | `\"  hello\".lstrip()`                    |\n",
    "| `partition(sep)`   | Splits the string at the first occurrence of the separator.             | `\"hello world\".partition(\" \")`          |\n",
    "| `replace(old, new)`| Replaces occurrences of a substring with another substring.             | `\"hello world\".replace(\"world\", \"there\")`|\n",
    "| `rfind(substring)` | Returns the highest index of the substring, or `-1` if not found.       | `\"hello\".rfind(\"l\")`                    |\n",
    "| `rindex(substring)`| Returns the highest index of the substring, raises an error if not found.| `\"hello\".rindex(\"l\")`                  |\n",
    "| `rjust(width)`     | Right-justifies the string in a field of the specified width.           | `\"hello\".rjust(10)`                     |\n",
    "| `rpartition(sep)`  | Splits the string at the last occurrence of the separator.              | `\"hello world\".rpartition(\" \")`         |\n",
    "| `rsplit(sep)`      | Splits the string at the separator from the right.                      | `\"a,b,c\".rsplit(\",\")`                   |\n",
    "| `rstrip()`         | Removes trailing whitespace or specified characters.                   | `\"hello  \".rstrip()`                    |\n",
    "| `split(sep)`       | Splits the string at the specified separator.                           | `\"hello world\".split(\" \")`              |\n",
    "| `splitlines()`     | Splits the string at line breaks.                                       | `\"hello\\nworld\".splitlines()`           |\n",
    "| `startswith(prefix)`| Returns `True` if the string starts with the specified prefix.         | `\"hello\".startswith(\"h\")`               |\n",
    "| `strip()`          | Removes leading and trailing whitespace or specified characters.       | `\"  hello  \".strip()`                   |\n",
    "| `swapcase()`       | Swaps the case of all characters in the string.                        | `\"Hello\".swapcase()`                    |\n",
    "| `title()`          | Converts the first character of each word to uppercase.                | `\"hello world\".title()`                 |\n",
    "| `upper()`          | Converts the string to uppercase.                                       | `\"hello\".upper()`                       |\n",
    "| `zfill(width)`     | Pads the string with zeros on the left to fill the specified width.     | `\"42\".zfill(5)`                         |\n"
   ]
  },
  {
   "cell_type": "markdown",
   "id": "37aed302-2af7-4fdc-be7c-6888350f265b",
   "metadata": {},
   "source": [
    "In this tutorial, we covered essential string operations in Python, including string creation, indexing, slicing, and common string methods like formatting, case conversion, and searching. We also explored string immutability, concatenation, and handling multiline strings. Mastering these string manipulation techniques is key to effectively working with text data in Python applications."
   ]
  },
  {
   "cell_type": "markdown",
   "id": "bd4a05cb-4f47-4721-a39f-07d8d3556c31",
   "metadata": {},
   "source": [
    "<div style=\"text-align: center;\">\n",
    "  <a href=\"https://github.com/deBUGger404\" target=\"_blank\">\n",
    "    <img src=\"../Data/happy_code.webp\" alt=\"Happy Code\" style=\"width:200px; border-radius:12px;\">\n",
    "  </a>\n",
    "</div>"
   ]
  }
 ],
 "metadata": {
  "kernelspec": {
   "display_name": "Python (ml_proj_env)",
   "language": "python",
   "name": "ml_proj_env"
  },
  "language_info": {
   "codemirror_mode": {
    "name": "ipython",
    "version": 3
   },
   "file_extension": ".py",
   "mimetype": "text/x-python",
   "name": "python",
   "nbconvert_exporter": "python",
   "pygments_lexer": "ipython3",
   "version": "3.12.4"
  }
 },
 "nbformat": 4,
 "nbformat_minor": 5
}
