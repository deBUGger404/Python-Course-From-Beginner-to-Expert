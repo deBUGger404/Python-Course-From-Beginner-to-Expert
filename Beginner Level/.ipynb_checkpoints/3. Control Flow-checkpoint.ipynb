{
 "cells": [
  {
   "cell_type": "markdown",
   "id": "430da087-8966-4591-9020-53de76544e6c",
   "metadata": {},
   "source": [
    "## Control Flow in Python\n",
    "Control flow allows your programs to make decisions and execute code conditionally, repeat certain actions, and manage the flow of execution in more complex ways. Mastering control flow is essential for writing efficient and effective Python programs."
   ]
  },
  {
   "cell_type": "markdown",
   "id": "dabb5507-ac5c-436b-970f-a4a688fdeeac",
   "metadata": {},
   "source": [
    "### 1. **Conditional Statements:**\n",
    "**Conditional statements** are the backbone of decision-making in Python. They allow you to execute certain blocks of code only when specific conditions are met.\n",
    "\n",
    " - **If Statement:** The if statement is used to test a condition. If the condition evaluates to True, the code block inside the if statement is executed."
   ]
  },
  {
   "cell_type": "code",
   "execution_count": 8,
   "id": "99b85962-dd27-4fa9-a5fb-8408c212aa0e",
   "metadata": {},
   "outputs": [
    {
     "name": "stdout",
     "output_type": "stream",
     "text": [
      "x is greater than 5\n"
     ]
    }
   ],
   "source": [
    "# Example 1: Simple Condition\n",
    "x = 10\n",
    "if x > 5:\n",
    "    print(\"x is greater than 5\")"
   ]
  },
  {
   "cell_type": "markdown",
   "id": "deac05a6-de83-4f8e-b0ff-9465e6dd1082",
   "metadata": {},
   "source": [
    "> In this example, because x is greater than 5, the message \"x is greater than 5\" is printed."
   ]
  },
  {
   "cell_type": "code",
   "execution_count": 9,
   "id": "e81f5eab-7bda-412d-90da-d7d7b117263b",
   "metadata": {},
   "outputs": [
    {
     "name": "stdout",
     "output_type": "stream",
     "text": [
      "Hello, Alice!\n"
     ]
    }
   ],
   "source": [
    "#Example 2: Checking Equality\n",
    "\n",
    "name = \"Alice\"\n",
    "if name == \"Alice\":\n",
    "    print(\"Hello, Alice!\")"
   ]
  },
  {
   "cell_type": "code",
   "execution_count": 10,
   "id": "bee7db9d-01ed-4cee-b02f-7a9368be2579",
   "metadata": {},
   "outputs": [
    {
     "name": "stdout",
     "output_type": "stream",
     "text": [
      "You are eligible to work.\n"
     ]
    }
   ],
   "source": [
    "#Example 3: Multiple Conditions in a Single if\n",
    "\n",
    "age = 20\n",
    "if age >= 18 and age < 65:\n",
    "    print(\"You are eligible to work.\")"
   ]
  },
  {
   "cell_type": "markdown",
   "id": "5e7ec085-2e1c-4756-9a2e-cfc617566fc2",
   "metadata": {},
   "source": [
    " - **If-Else Statement:** The `if-else` statement adds an alternative path of execution. If the condition in the `if` statement is `False`, the code block inside the `else` statement will be executed."
   ]
  },
  {
   "cell_type": "code",
   "execution_count": 11,
   "id": "0581d3f7-154f-4213-8674-e41d1e37291b",
   "metadata": {},
   "outputs": [
    {
     "name": "stdout",
     "output_type": "stream",
     "text": [
      "x is not greater than 5\n"
     ]
    }
   ],
   "source": [
    "#Example 1: Simple If-Else\n",
    "\n",
    "x = 3\n",
    "if x > 5:\n",
    "    print(\"x is greater than 5\")\n",
    "else:\n",
    "    print(\"x is not greater than 5\")"
   ]
  },
  {
   "cell_type": "markdown",
   "id": "f641b6e5-30fc-4f5e-8840-296de3b55654",
   "metadata": {},
   "source": [
    "> Since x is not greater than 5, the program prints \"x is not greater than 5\"."
   ]
  },
  {
   "cell_type": "code",
   "execution_count": 12,
   "id": "105c033a-163e-4b6f-9774-9e567d18e84d",
   "metadata": {},
   "outputs": [
    {
     "name": "stdout",
     "output_type": "stream",
     "text": [
      "4 is even\n"
     ]
    }
   ],
   "source": [
    "#Example 2: Even or Odd\n",
    "\n",
    "number = 4\n",
    "if number % 2 == 0:\n",
    "    print(f\"{number} is even\")\n",
    "else:\n",
    "    print(f\"{number} is odd\")"
   ]
  },
  {
   "cell_type": "code",
   "execution_count": 13,
   "id": "9817051c-5270-44a7-97c3-bd47ff5cccdd",
   "metadata": {},
   "outputs": [
    {
     "name": "stdout",
     "output_type": "stream",
     "text": [
      "Access granted\n"
     ]
    }
   ],
   "source": [
    "#Example 3: String Comparison\n",
    "\n",
    "password = \"password123\"\n",
    "if password == \"password123\":\n",
    "    print(\"Access granted\")\n",
    "else:\n",
    "    print(\"Access denied\")"
   ]
  },
  {
   "cell_type": "markdown",
   "id": "8709616d-bccc-4347-8105-f5a0d3023f46",
   "metadata": {},
   "source": [
    " - **Elif Statement:** The `elif` (short for \"else if\") statement allows you to check multiple conditions. If the first condition is `False`, Python checks the next one, and so on, until it finds a `True` condition"
   ]
  },
  {
   "cell_type": "code",
   "execution_count": 14,
   "id": "1f44b314-2b8e-4d7d-9436-02d9b7536d70",
   "metadata": {},
   "outputs": [
    {
     "name": "stdout",
     "output_type": "stream",
     "text": [
      "x is greater than 5 but less than or equal to 10\n"
     ]
    }
   ],
   "source": [
    "#Example 1: Number Range\n",
    "x = 7\n",
    "if x > 10:\n",
    "    print(\"x is greater than 10\")\n",
    "elif x > 5:\n",
    "    print(\"x is greater than 5 but less than or equal to 10\")\n",
    "else:\n",
    "    print(\"x is 5 or less\")"
   ]
  },
  {
   "cell_type": "markdown",
   "id": "0a6684b4-82be-4e10-9d10-5916162e8f26",
   "metadata": {},
   "source": [
    "> Here, x is greater than 5 but not greater than 10, so the `second condition` is met, and the corresponding message is printed."
   ]
  },
  {
   "cell_type": "code",
   "execution_count": 15,
   "id": "4595156b-1bc1-4630-8c2c-cb0e6e4b5010",
   "metadata": {},
   "outputs": [
    {
     "name": "stdout",
     "output_type": "stream",
     "text": [
      "Grade: B\n"
     ]
    }
   ],
   "source": [
    "#Example 2: Grading System\n",
    "\n",
    "score = 85\n",
    "if score >= 90:\n",
    "    print(\"Grade: A\")\n",
    "elif score >= 80:\n",
    "    print(\"Grade: B\")\n",
    "elif score >= 70:\n",
    "    print(\"Grade: C\")\n",
    "else:\n",
    "    print(\"Grade: D or below\")"
   ]
  },
  {
   "cell_type": "code",
   "execution_count": 16,
   "id": "8f1b40a1-07a2-4201-af61-6d9142c2efc0",
   "metadata": {},
   "outputs": [
    {
     "name": "stdout",
     "output_type": "stream",
     "text": [
      "The weather is nice.\n"
     ]
    }
   ],
   "source": [
    "#Example 3: Temperature Check\n",
    "\n",
    "temperature = 25\n",
    "if temperature > 30:\n",
    "    print(\"It's hot outside.\")\n",
    "elif temperature > 20:\n",
    "    print(\"The weather is nice.\")\n",
    "else:\n",
    "    print(\"It's a bit chilly.\")"
   ]
  },
  {
   "cell_type": "markdown",
   "id": "a4907e4d-2bff-4cb9-b709-4055cd1d2da3",
   "metadata": {},
   "source": [
    "### 2. Nested Conditional Statements\n",
    "Sometimes, you may need to check conditions within other conditions. This is where nested conditional statements come into play. \n",
    "- By nesting `if`, `elif`, or `else` statements, you can create more complex decision-making logic.\n"
   ]
  },
  {
   "cell_type": "code",
   "execution_count": 19,
   "id": "d5c8cacb-fab1-43b7-b3b0-8d3080aefdbf",
   "metadata": {},
   "outputs": [
    {
     "name": "stdout",
     "output_type": "stream",
     "text": [
      "You are eligible to vote.\n"
     ]
    }
   ],
   "source": [
    "#Example 1: Age and Citizenship Check\n",
    "age = 18\n",
    "citizen = True\n",
    "\n",
    "if age >= 18:\n",
    "    if citizen:\n",
    "        print(\"You are eligible to vote.\")\n",
    "    else:\n",
    "        print(\"You must be a citizen to vote.\")\n",
    "else:\n",
    "    print(\"You must be at least 18 years old to vote.\")"
   ]
  },
  {
   "cell_type": "markdown",
   "id": "5ff3ce8e-ebe0-4daa-afb4-23d6dcff461a",
   "metadata": {},
   "source": [
    "> In this example, because x is greater than 10 and less than 20, the message `x is between 10 and 20` is printed."
   ]
  },
  {
   "cell_type": "code",
   "execution_count": 17,
   "id": "2e2ab49d-a49a-4fea-8940-4fd01e769931",
   "metadata": {},
   "outputs": [
    {
     "name": "stdout",
     "output_type": "stream",
     "text": [
      "x is an odd number between 10 and 20\n"
     ]
    }
   ],
   "source": [
    "#example 2: Multiple Nested Conditions\n",
    "\n",
    "x = 15\n",
    "if x > 10:\n",
    "    if x < 20:\n",
    "        if x % 2 == 0:\n",
    "            print(\"x is an even number between 10 and 20\")\n",
    "        else:\n",
    "            print(\"x is an odd number between 10 and 20\")\n",
    "    else:\n",
    "        print(\"x is 20 or greater\")\n",
    "else:\n",
    "    print(\"x is 10 or less\")"
   ]
  },
  {
   "cell_type": "code",
   "execution_count": 20,
   "id": "2181360b-b3b2-4dba-9c2a-8e7b337f31b1",
   "metadata": {},
   "outputs": [
    {
     "name": "stdout",
     "output_type": "stream",
     "text": [
      "You have a B grade.\n"
     ]
    }
   ],
   "source": [
    "#example 3: Nested Conditions with Logical Operators\n",
    "\n",
    "marks = 75\n",
    "if marks > 70:\n",
    "    if marks >= 80:\n",
    "        print(\"You have an A grade.\")\n",
    "    else:\n",
    "        print(\"You have a B grade.\")\n",
    "else:\n",
    "    if marks >= 60:\n",
    "        print(\"You have a C grade.\")\n",
    "    else:\n",
    "        print(\"You have a D grade.\")"
   ]
  },
  {
   "cell_type": "code",
   "execution_count": null,
   "id": "c1f66a02-a229-4138-bb8e-bf849bd2e83a",
   "metadata": {},
   "outputs": [],
   "source": []
  },
  {
   "cell_type": "markdown",
   "id": "517244af-3e38-4738-a2e4-7dd7d1d3d7af",
   "metadata": {},
   "source": [
    "### 3. Loops in Python\n",
    "**Loops** are a powerful feature in Python that allows you to repeat a block of code multiple times. Python supports two main types of loops: `while` loops and `for` loops.\n",
    "    \n",
    "- **While Loop:** The `while` loop repeatedly executes a block of code as long as a given condition is `True`. It’s particularly useful when you don't know in advance how many times you need to iterate."
   ]
  },
  {
   "cell_type": "code",
   "execution_count": 22,
   "id": "6d04eadf-7958-45f7-a8a7-4e9372eb205b",
   "metadata": {},
   "outputs": [
    {
     "name": "stdout",
     "output_type": "stream",
     "text": [
      "Count is: 1\n",
      "Count is: 2\n",
      "Count is: 3\n",
      "Count is: 4\n",
      "Count is: 5\n"
     ]
    }
   ],
   "source": [
    "#Example 1: Simple Counter\n",
    "\n",
    "count = 1\n",
    "while count <= 5:\n",
    "    print(\"Count is:\", count)\n",
    "    count += 1"
   ]
  },
  {
   "cell_type": "markdown",
   "id": "566d6af0-30bb-48cd-b96e-be3c654c21ce",
   "metadata": {},
   "source": [
    "> This code prints the numbers 1 through 5. The loop continues to run as long as count is less than or equal to 5."
   ]
  },
  {
   "cell_type": "code",
   "execution_count": 23,
   "id": "7a30441e-e6d3-4c32-bae2-e8efe6b00ad3",
   "metadata": {},
   "outputs": [
    {
     "name": "stdin",
     "output_type": "stream",
     "text": [
      "Enter your password:  abc\n"
     ]
    },
    {
     "name": "stdout",
     "output_type": "stream",
     "text": [
      "Wrong password, try again.\n"
     ]
    },
    {
     "name": "stdin",
     "output_type": "stream",
     "text": [
      "Enter your password:  password\n"
     ]
    },
    {
     "name": "stdout",
     "output_type": "stream",
     "text": [
      "Wrong password, try again.\n"
     ]
    },
    {
     "name": "stdin",
     "output_type": "stream",
     "text": [
      "Enter your password:  password123\n"
     ]
    },
    {
     "name": "stdout",
     "output_type": "stream",
     "text": [
      "Access granted.\n"
     ]
    }
   ],
   "source": [
    "#Example 2: User Input Loop\n",
    "\n",
    "password = \"\"\n",
    "while password != \"password123\":\n",
    "    password = input(\"Enter your password: \")\n",
    "    if password != \"password123\":\n",
    "        print(\"Wrong password, try again.\")\n",
    "print(\"Access granted.\")"
   ]
  },
  {
   "cell_type": "code",
   "execution_count": 24,
   "id": "82df23a4-8c7c-47e2-be50-7a47e8b8ce63",
   "metadata": {},
   "outputs": [
    {
     "name": "stdout",
     "output_type": "stream",
     "text": [
      "Sum of numbers from 1 to 10 is: 55\n"
     ]
    }
   ],
   "source": [
    "#Example 3: Summing Numbers\n",
    "\n",
    "total = 0\n",
    "i = 1\n",
    "while i <= 10:\n",
    "    total += i\n",
    "    i += 1\n",
    "print(\"Sum of numbers from 1 to 10 is:\", total)"
   ]
  },
  {
   "cell_type": "markdown",
   "id": "2efc9416-54ab-4190-9839-64e94fa9a2e2",
   "metadata": {},
   "source": [
    "- **For Loop:** The `for` loop is used to iterate over a sequence (like a list, tuple, or string) or a range of numbers. It’s ideal when you know in advance how many times you need to loop."
   ]
  },
  {
   "cell_type": "code",
   "execution_count": 26,
   "id": "c19c09b2-08e7-4a7c-9131-2a77d0b7de2d",
   "metadata": {},
   "outputs": [
    {
     "name": "stdout",
     "output_type": "stream",
     "text": [
      "i is: 0\n",
      "i is: 1\n",
      "i is: 2\n",
      "i is: 3\n",
      "i is: 4\n"
     ]
    }
   ],
   "source": [
    "for i in range(5):\n",
    "    print(\"i is:\", i)"
   ]
  },
  {
   "cell_type": "markdown",
   "id": "71e0beb1-3ee1-4b68-a73c-42586454044b",
   "metadata": {},
   "source": [
    "> This loop will print the values of i from 0 to 4. The range(5) function generates a sequence of numbers from 0 to 4."
   ]
  },
  {
   "cell_type": "markdown",
   "id": "6f3fab1d-1fd7-4b8b-aa62-937c65ea5f03",
   "metadata": {},
   "source": [
    "## 4. Loop Control Statements\n",
    "Python provides several **loop control statements** that allow you to modify the behavior of loops. These include `break`, `continue`, and `pass`.\n",
    "\n",
    "- **Break Statement:** The `break` statement is used to exit a loop prematurely, even if the loop’s condition has not yet become `False`."
   ]
  },
  {
   "cell_type": "code",
   "execution_count": 28,
   "id": "7c308430-fd21-40f7-8730-5d2756e3e56b",
   "metadata": {},
   "outputs": [
    {
     "name": "stdout",
     "output_type": "stream",
     "text": [
      "0\n",
      "1\n",
      "2\n",
      "3\n",
      "4\n"
     ]
    }
   ],
   "source": [
    "for i in range(10):\n",
    "    if i == 5:\n",
    "        break\n",
    "    print(i)"
   ]
  },
  {
   "cell_type": "markdown",
   "id": "106e2aa8-1dce-4a0b-b700-e59a0efc5a24",
   "metadata": {},
   "source": [
    "> This loop will stop and exit when i equals 5, so the numbers 0 through 4 are printed."
   ]
  },
  {
   "cell_type": "markdown",
   "id": "90fc2f8d-fd4f-4148-b7af-fa68cb232a53",
   "metadata": {},
   "source": [
    "- **Continue Statement:** The `continue` statement skips the current iteration of the loop and proceeds with the next iteration."
   ]
  },
  {
   "cell_type": "code",
   "execution_count": 30,
   "id": "32c1bd47-02e2-4ad4-99c0-73b6273aeac7",
   "metadata": {},
   "outputs": [
    {
     "name": "stdout",
     "output_type": "stream",
     "text": [
      "1\n",
      "3\n",
      "5\n",
      "7\n",
      "9\n"
     ]
    }
   ],
   "source": [
    "for i in range(10):\n",
    "    if i % 2 == 0:\n",
    "        continue\n",
    "    print(i)"
   ]
  },
  {
   "cell_type": "markdown",
   "id": "cf7b96d5-60c1-40bf-9c1e-4c832602d77d",
   "metadata": {},
   "source": [
    "> This loop prints only the odd numbers between 0 and 9. When i is even, the continue statement skips the print statement for that iteration."
   ]
  },
  {
   "cell_type": "markdown",
   "id": "88552bfa-9105-4fd3-8d8e-c6ba0a4d2b8e",
   "metadata": {},
   "source": [
    "- **Pass Statement:** The `pass` statement does nothing and is often used as a placeholder in loops, functions, or classes when you’re working on code that isn’t fully implemented yet."
   ]
  },
  {
   "cell_type": "code",
   "execution_count": 33,
   "id": "00f1740e-eab4-47ab-a77a-10acf3b210b4",
   "metadata": {},
   "outputs": [
    {
     "name": "stdout",
     "output_type": "stream",
     "text": [
      "0\n",
      "1\n",
      "2\n",
      "4\n"
     ]
    }
   ],
   "source": [
    "for i in range(5):\n",
    "    if i == 3:\n",
    "        pass  # Placeholder for future code\n",
    "    else:\n",
    "        print(i)"
   ]
  },
  {
   "cell_type": "markdown",
   "id": "062f2c0f-ecec-4e5e-87cc-0225deb37ec1",
   "metadata": {},
   "source": [
    "> In this case, when i equals 3, the pass statement is executed, but nothing happens. The loop continues to the next iteration."
   ]
  },
  {
   "cell_type": "markdown",
   "id": "4f6f90cc-0172-4b95-90ac-864ee20ab990",
   "metadata": {},
   "source": [
    "### 5. Nested Loops\n",
    "**Nested loops** are loops inside other loops. They allow you to perform more complex iterations, such as iterating over a matrix or handling multiple sequences simultaneously."
   ]
  },
  {
   "cell_type": "code",
   "execution_count": 44,
   "id": "929ad639-a076-470e-86ed-b70342925032",
   "metadata": {},
   "outputs": [
    {
     "name": "stdout",
     "output_type": "stream",
     "text": [
      "0 * 0 = 0\n",
      "0 * 1 = 0\n",
      "1 * 0 = 0\n",
      "1 * 1 = 1\n",
      "2 * 0 = 0\n",
      "2 * 1 = 2\n"
     ]
    }
   ],
   "source": [
    "#example1: Multiplication Table\n",
    "for i in range(3):\n",
    "    for j in range(2):\n",
    "        print(f\"{i} * {j} = {i * j}\")"
   ]
  },
  {
   "cell_type": "code",
   "execution_count": 43,
   "id": "71589c42-1672-4d3d-8fdd-c08099852e0a",
   "metadata": {},
   "outputs": [
    {
     "name": "stdout",
     "output_type": "stream",
     "text": [
      "1 2 3 \n",
      "4 5 6 \n",
      "7 8 9 \n"
     ]
    }
   ],
   "source": [
    "#Example 2: Iterating Over a 2D List\n",
    "\n",
    "data = [\n",
    "    [1, 2, 3],\n",
    "    [4, 5, 6],\n",
    "    [7, 8, 9]\n",
    "]\n",
    "\n",
    "for row in data:\n",
    "    for item in row:\n",
    "        print(item, end=\" \")\n",
    "    print()"
   ]
  },
  {
   "cell_type": "code",
   "execution_count": 45,
   "id": "e7bd752f-8fbc-422c-be2a-56dac134c085",
   "metadata": {},
   "outputs": [
    {
     "name": "stdout",
     "output_type": "stream",
     "text": [
      "i=1, j=0\n",
      "i=2, j=0\n",
      "i=2, j=1\n"
     ]
    }
   ],
   "source": [
    "#Example 3: Nested Loop with Break\n",
    "\n",
    "for i in range(3):\n",
    "    for j in range(3):\n",
    "        if i == j:\n",
    "            break\n",
    "        print(f\"i={i}, j={j}\")"
   ]
  },
  {
   "cell_type": "markdown",
   "id": "030c35db-cdc5-4ebc-8547-23d107a1e6d2",
   "metadata": {},
   "source": [
    "### 6. Looping Through Data Structures\n",
    "Python loops are frequently used to iterate over various data structures like lists, dictionaries, and strings.\n",
    "\n",
    "- **Lists:** You can use a `for` loop to iterate through each element in a list."
   ]
  },
  {
   "cell_type": "code",
   "execution_count": 50,
   "id": "5f8ea0c2-3d5e-4fc1-b94e-fa7c607ba207",
   "metadata": {},
   "outputs": [
    {
     "name": "stdout",
     "output_type": "stream",
     "text": [
      "apple\n",
      "banana\n",
      "cherry\n"
     ]
    }
   ],
   "source": [
    "#Example 1: Simple List Iteration\n",
    "fruits = [\"apple\", \"banana\", \"cherry\"]\n",
    "for fruit in fruits:\n",
    "    print(fruit)"
   ]
  },
  {
   "cell_type": "markdown",
   "id": "93bc9b4c-3baa-4dc4-b610-a6e5da2349b7",
   "metadata": {},
   "source": [
    "> This loop prints each fruit in the fruits list."
   ]
  },
  {
   "cell_type": "code",
   "execution_count": 47,
   "id": "82871de6-1804-47ef-a3cc-dfb447bcfc62",
   "metadata": {},
   "outputs": [
    {
     "name": "stdout",
     "output_type": "stream",
     "text": [
      "Index 0: apple\n",
      "Index 1: banana\n",
      "Index 2: cherry\n"
     ]
    }
   ],
   "source": [
    "#Example 2: Iterating with Index\n",
    "\n",
    "fruits = [\"apple\", \"banana\", \"cherry\"]\n",
    "for index in range(len(fruits)):\n",
    "    print(f\"Index {index}: {fruits[index]}\")"
   ]
  },
  {
   "cell_type": "code",
   "execution_count": 48,
   "id": "97a17b9a-05a5-422e-9758-181d9e19aff1",
   "metadata": {},
   "outputs": [
    {
     "name": "stdout",
     "output_type": "stream",
     "text": [
      "[0, 1, 4, 9, 16]\n"
     ]
    }
   ],
   "source": [
    "#Example 3: List Comprehension\n",
    "\n",
    "squares = [x**2 for x in range(5)]\n",
    "print(squares)"
   ]
  },
  {
   "cell_type": "markdown",
   "id": "024fad94-0c43-4cbe-8de2-4647f0f78836",
   "metadata": {},
   "source": [
    "- **Dictionaries:** You can loop through dictionaries to access keys and values."
   ]
  },
  {
   "cell_type": "code",
   "execution_count": 49,
   "id": "d29a899a-606f-47af-8ec3-76343bf4365f",
   "metadata": {},
   "outputs": [
    {
     "name": "stdout",
     "output_type": "stream",
     "text": [
      "Alice\n",
      "Bob\n",
      "Charlie\n"
     ]
    }
   ],
   "source": [
    "#Example 1: Looping Through Keys\n",
    "\n",
    "student_scores = {\"Alice\": 85, \"Bob\": 90, \"Charlie\": 92}\n",
    "for student in student_scores:\n",
    "    print(student)"
   ]
  },
  {
   "cell_type": "code",
   "execution_count": 51,
   "id": "e7ef75a4-8f10-44f8-bbc9-fd9aa30d20a5",
   "metadata": {},
   "outputs": [
    {
     "name": "stdout",
     "output_type": "stream",
     "text": [
      "Number of vowels: 5\n"
     ]
    }
   ],
   "source": [
    "#Example 2: Counting Vowels in a String\n",
    "\n",
    "word = \"Education\"\n",
    "vowels = \"aeiouAEIOU\"\n",
    "count = 0\n",
    "for letter in word:\n",
    "    if letter in vowels:\n",
    "        count += 1\n",
    "print(f\"Number of vowels: {count}\")"
   ]
  },
  {
   "cell_type": "code",
   "execution_count": 52,
   "id": "414d9b94-c44b-4563-8ab4-2251460f12a6",
   "metadata": {},
   "outputs": [
    {
     "name": "stdout",
     "output_type": "stream",
     "text": [
      "Reversed word: nohtyP\n"
     ]
    }
   ],
   "source": [
    "#Example 3: String Reversal Using a Loop\n",
    "\n",
    "word = \"Python\"\n",
    "reversed_word = \"\"\n",
    "for letter in word:\n",
    "    reversed_word = letter + reversed_word\n",
    "print(\"Reversed word:\", reversed_word)"
   ]
  },
  {
   "cell_type": "markdown",
   "id": "f7d3a4e6-1a3f-4a18-a052-aab589203814",
   "metadata": {},
   "source": [
    "In this tutorial, we've covered the essential concepts of control flow in Python, including conditional statements **(if, elif, else)**, loops **(while, for)**, and loop control mechanisms **(break, continue, pass)**. Additionally, we explored nested loops and how to iterate through various data structures. These tools are fundamental for managing program logic and are crucial for developing more complex and efficient Python applications."
   ]
  },
  {
   "cell_type": "markdown",
   "id": "73e665ce-e497-489b-8b0b-551810f85ef2",
   "metadata": {},
   "source": [
    "<div style=\"text-align: center;\">\n",
    "  <a href=\"https://github.com/deBUGger404\" target=\"_blank\">\n",
    "    <img src=\"../Data/happy_code.webp\" alt=\"Happy Code\" style=\"width:200px; border-radius:12px;\">\n",
    "  </a>\n",
    "</div>"
   ]
  }
 ],
 "metadata": {
  "kernelspec": {
   "display_name": "Python (ml_proj_env)",
   "language": "python",
   "name": "ml_proj_env"
  },
  "language_info": {
   "codemirror_mode": {
    "name": "ipython",
    "version": 3
   },
   "file_extension": ".py",
   "mimetype": "text/x-python",
   "name": "python",
   "nbconvert_exporter": "python",
   "pygments_lexer": "ipython3",
   "version": "3.12.4"
  }
 },
 "nbformat": 4,
 "nbformat_minor": 5
}
