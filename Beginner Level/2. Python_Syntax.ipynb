{
 "cells": [
  {
   "cell_type": "markdown",
   "id": "a765fe48-5a80-4798-b687-fa6aa3f0aaac",
   "metadata": {
    "jp-MarkdownHeadingCollapsed": true
   },
   "source": [
    "## 1. Introduction to Variables and Data Types\n",
    "\n",
    "### Variables\n",
    "Variables are used to store data, for example:\n",
    "- `x = 5`\n",
    "- `name = \"Alice\"`\n",
    "\n",
    "### Data Types\n",
    "Data types define the nature of the data that can be stored and manipulated within a program. Below are the primary data types in Python:\n",
    "\n",
    "#### Text Type\n",
    "- **String (`str`):** Used for text data, enclosed in quotes.\n",
    "<br/>\n",
    "\n",
    "#### Numeric Types\n",
    "- **Integer (`int`):** Whole numbers without a decimal point.\n",
    "- **Float (`float`):** Numbers with a decimal point.\n",
    "- **Complex (`complex`):** Numbers with a real and imaginary part.\n",
    "<br/>\n",
    "\n",
    "#### Sequence Types\n",
    "- **List (`list`):** An ordered, mutable collection of items.\n",
    "- **Tuple (`tuple`):** An ordered, immutable collection of items.\n",
    "- **Range (`range`):** Represents a sequence of numbers, commonly used in loops.\n",
    "<br/>\n",
    "\n",
    "#### Mapping Type\n",
    "- **Dictionary (`dict`):** A collection of key-value pairs.\n",
    "<br/>\n",
    "\n",
    "#### Set Types\n",
    "- **Set (`set`):** An unordered collection of unique items.\n",
    "- **Frozen Set (`frozenset`):** An immutable version of a set.\n",
    "<br/>\n",
    "\n",
    "#### Boolean Type\n",
    "- **Boolean (`bool`):** Represents `True` or `False` values.\n",
    "<br/>\n",
    "\n",
    "#### Binary Types\n",
    "- **Bytes (`bytes`):** An immutable sequence of bytes.\n",
    "- **Bytearray (`bytearray`):** A mutable sequence of bytes.\n",
    "- **Memoryview (`memoryview`):** A view over a sequence of bytes.\n",
    "<br/>\n",
    "\n",
    "#### None Type\n",
    "- **NoneType:** Represents the absence of a value."
   ]
  },
  {
   "cell_type": "markdown",
   "id": "32fa01a5-e7f0-4a67-9101-86941e60ff19",
   "metadata": {},
   "source": [
    "### Summary Table of Data Types\n",
    "\n",
    "| **Data Type**            | **Python Syntax** | **Description**                                        | **Example**                             |\n",
    "|:------------------------:|:----------------:|:-------------------------------------------------------|:----------------------------------------|\n",
    "| `String`                 | `str`            | Text data enclosed in quotes.                          | `name = \"Alice\"`                        |\n",
    "| `Integer`                | `int`            | Whole numbers without a decimal point.                 | `x = 10`                                |\n",
    "| `Float`                  | `float`          | Numbers with a decimal point.                          | `y = 3.14`                              |\n",
    "| `Complex`                | `complex`        | Numbers with a real and imaginary part.                | `z = 2 + 3j`                            |\n",
    "| `List`                   | `list`           | An ordered, mutable collection of items.               | `fruits = [\"apple\", \"banana\", \"cherry\"]`|\n",
    "| `Tuple`                  | `tuple`          | An ordered, immutable collection of items.             | `coordinates = (10, 20)`                |\n",
    "| `Range`                  | `range`          | Represents a sequence of numbers, used in loops.       | `numbers = range(5)`                    |\n",
    "| `Dictionary`             | `dict`           | A collection of key-value pairs.                       | `person = {\"name\": \"Alice\", \"age\": 25}` |\n",
    "| `Set`                    | `set`            | An unordered collection of unique items.               | `unique_numbers = {1, 2, 3}`            |\n",
    "| `Frozen Set`             | `frozenset`      | An immutable version of a set.                         | `frozen_numbers = frozenset([1, 2, 3])` |\n",
    "| `Boolean`                | `bool`           | Represents `True` or `False` values.                   | `is_sunny = True`                       |\n",
    "| `Bytes`                  | `bytes`          | An immutable sequence of bytes.                        | `byte_data = b\"Hello\"`                  |\n",
    "| `Bytearray`              | `bytearray`      | A mutable sequence of bytes.                           | `byte_array = bytearray(5)`             |\n",
    "| `Memoryview`             | `memoryview`     | A view over a sequence of bytes.                       | `mem_view = memoryview(b\"Hello\")`       |\n",
    "| `NoneType`               | `NoneType`       | Represents the absence of a value.                     | `value = None`                          |"
   ]
  },
  {
   "cell_type": "code",
   "execution_count": 2,
   "id": "79c90f83-2acf-46d1-89cc-09b7f63a8c95",
   "metadata": {},
   "outputs": [],
   "source": [
    "x = 5\n",
    "y = 3.14\n",
    "name = \"Alice\"\n",
    "is_sunny = True"
   ]
  },
  {
   "cell_type": "code",
   "execution_count": 4,
   "id": "144f8e1f-c570-40b5-bc04-9f691c948409",
   "metadata": {},
   "outputs": [
    {
     "name": "stdout",
     "output_type": "stream",
     "text": [
      "The value of x is integer: 5\n",
      "The value of y is float: 3.14\n",
      "The value of name is string: 'Alice'\n",
      "The value of is_sunny is boolean: True\n"
     ]
    }
   ],
   "source": [
    "print(f\"The value of x is integer: {x}\")\n",
    "print(f\"The value of y is float: {y}\")\n",
    "print(f\"The value of name is string: '{name}'\")\n",
    "print(f\"The value of is_sunny is boolean: {is_sunny}\")"
   ]
  },
  {
   "cell_type": "markdown",
   "id": "e2ac8fc2-b64e-4fb7-9814-3453319ee444",
   "metadata": {},
   "source": [
    "***\n",
    "## 2. Basic Operators"
   ]
  },
  {
   "cell_type": "markdown",
   "id": "3d810cc3-1d14-4e7e-97fd-85dbecc99da8",
   "metadata": {},
   "source": [
    "- **Arithmetic Operators:** Arithmetic operators are used with numeric values to perform common mathematical operations,\n",
    "| **Operator** | **Name**           | **Example** | **Description**                                                         |\n",
    "|:------------:|:------------------:|:-----------:|:------------------------------------------------------------------------:|\n",
    "| `+`          | Addition           | `x + y`     | Adds `x` and `y`.                                                        |\n",
    "| `-`          | Subtraction        | `x - y`     | Subtracts `y` from `x`.                                                  |\n",
    "| `*`          | Multiplication     | `x * y`     | Multiplies `x` by `y`.                                                   |\n",
    "| `/`          | Division           | `x / y`     | Divides `x` by `y`.                                                      |\n",
    "| `%`          | Modulus            | `x % y`     | Returns the remainder of `x` divided by `y`.                             |\n",
    "| `**`         | Exponentiation     | `x ** y`    | Raises `x` to the power of `y`.                                          |\n",
    "| `//`         | Floor Division     | `x // y`    | Divides `x` by `y` and returns the floor (whole number) of the result.   |"
   ]
  },
  {
   "cell_type": "code",
   "execution_count": 6,
   "id": "96ca4f15-339e-4cc3-a1c9-db38bee12f05",
   "metadata": {},
   "outputs": [],
   "source": [
    "# below is two variable which values are 10, 3\n",
    "a = 10\n",
    "b = 3"
   ]
  },
  {
   "cell_type": "code",
   "execution_count": 7,
   "id": "73f3a40f-e646-4904-94b1-34804457846a",
   "metadata": {},
   "outputs": [
    {
     "name": "stdout",
     "output_type": "stream",
     "text": [
      "Addition of a and b is: 13\n"
     ]
    }
   ],
   "source": [
    "# for addition use +\n",
    "c = a + b\n",
    "print(f\"Addition of a and b is: {c}\")"
   ]
  },
  {
   "cell_type": "code",
   "execution_count": 9,
   "id": "eeb0b08a-9675-4093-bf82-4462d5fae9ca",
   "metadata": {},
   "outputs": [
    {
     "name": "stdout",
     "output_type": "stream",
     "text": [
      "Subtraction of a and b is: 7\n"
     ]
    }
   ],
   "source": [
    "# for subtraction use -\n",
    "c = a - b\n",
    "print(f\"Subtraction of a and b is: {c}\")"
   ]
  },
  {
   "cell_type": "code",
   "execution_count": 10,
   "id": "1f1cd6fc-02d1-469f-abae-7940597c2381",
   "metadata": {},
   "outputs": [
    {
     "name": "stdout",
     "output_type": "stream",
     "text": [
      "Multiplication of a and b is: 30\n"
     ]
    }
   ],
   "source": [
    "# for multiplication use *\n",
    "c = a * b\n",
    "print(f\"Multiplication of a and b is: {c}\")"
   ]
  },
  {
   "cell_type": "code",
   "execution_count": 11,
   "id": "809368f7-ea59-4766-809f-6135c44d87af",
   "metadata": {},
   "outputs": [
    {
     "name": "stdout",
     "output_type": "stream",
     "text": [
      "Division of a and b is: 3.3333333333333335\n"
     ]
    }
   ],
   "source": [
    "# for division use /\n",
    "c = a / b\n",
    "print(f\"Division of a and b is: {c}\")"
   ]
  },
  {
   "cell_type": "code",
   "execution_count": 12,
   "id": "884055b5-5eab-49d6-9079-ee79c7b99e02",
   "metadata": {},
   "outputs": [
    {
     "name": "stdout",
     "output_type": "stream",
     "text": [
      "Modulus of a and b is: 1\n"
     ]
    }
   ],
   "source": [
    "# for modulus use %\n",
    "c = a % b\n",
    "print(f\"Modulus of a and b is: {c}\")"
   ]
  },
  {
   "cell_type": "markdown",
   "id": "087111d6-f19f-4a04-8b31-e1ba8a36f92d",
   "metadata": {},
   "source": [
    "\n",
    "- **Assignment Operators:**\n",
    "| **Operator** | **Example**       | **Equivalent To** | **Description**                                                       |\n",
    "|:------------:|:-----------------:|:-----------------:|:----------------------------------------------------------------------:|\n",
    "| `=`          | `x = 5`           | `x = 5`           | Assigns the value 5 to `x`.                                            |\n",
    "| `+=`         | `x += 3`          | `x = x + 3`       | Adds 3 to `x` and assigns the result to `x`.                           |\n",
    "| `-=`         | `x -= 3`          | `x = x - 3`       | Subtracts 3 from `x` and assigns the result to `x`.                    |\n",
    "| `*=`         | `x *= 3`          | `x = x * 3`       | Multiplies `x` by 3 and assigns the result to `x`.                     |\n",
    "| `/=`         | `x /= 3`          | `x = x / 3`       | Divides `x` by 3 and assigns the result to `x`.                        |\n",
    "| `%=`         | `x %= 3`          | `x = x % 3`       | Takes the modulus of `x` by 3 and assigns the result to `x`.           |\n",
    "| `&=`         | `x &= 3`          | `x = x & 3`       | Performs bitwise AND on `x` and 3, then assigns the result to `x`.     |\n",
    "| `//=`        | `x //= 3`         | `x = x // 3`      | Performs floor division on `x` by 3 and assigns the result to `x`.     |\n",
    "| `**=`        | `x **= 3`         | `x = x ** 3`      | Raises `x` to the power of 3 and assigns the result to `x`.            |\n",
    "| `>>=`        | `x >>= 3`         | `x = x >> 3`      | Performs bitwise right shift on `x` by 3, then assigns the result to `x`. |\n",
    "| `\\|=`         | `x \\|= 3`          | `x = x \\| 3`       | Performs bitwise OR on `x` and 3, then assigns the result to `x`.      |\n",
    "| `^=`         | `x ^= 3`          | `x = x ^ 3`       | Performs bitwise XOR on `x` and 3, then assigns the result to `x`.     |\n",
    "| `<<=`        | `x <<= 3`         | `x = x << 3`      | Performs bitwise left shift on `x` by 3, then assigns the result to `x`. |\n",
    "| `:=`         | `print(x := 3)`    | `x = 3`           | The walrus operator assigns a value to a variable as part of an expression. |\n"
   ]
  },
  {
   "cell_type": "code",
   "execution_count": 30,
   "id": "f64ec95e-349a-443f-8128-a5e06743a0f4",
   "metadata": {},
   "outputs": [
    {
     "name": "stdout",
     "output_type": "stream",
     "text": [
      "x += 3 -> x = 16\n"
     ]
    }
   ],
   "source": [
    "# Addition assignment\n",
    "x += 3\n",
    "print(f\"x += 3 -> x = {x}\")  # Output: x = 8"
   ]
  },
  {
   "cell_type": "code",
   "execution_count": 32,
   "id": "9c6eb312-922b-4384-bc82-530400d86a44",
   "metadata": {},
   "outputs": [
    {
     "name": "stdout",
     "output_type": "stream",
     "text": [
      "x *= 3 -> x = 144\n"
     ]
    }
   ],
   "source": [
    "# Multiplication assignment\n",
    "x *= 3\n",
    "print(f\"x *= 3 -> x = {x}\")  # Output: x = 15"
   ]
  },
  {
   "cell_type": "code",
   "execution_count": 33,
   "id": "94435bf7-cb47-4676-8864-6ad94563e54c",
   "metadata": {},
   "outputs": [
    {
     "name": "stdout",
     "output_type": "stream",
     "text": [
      "x /= 3 -> x = 48.0\n"
     ]
    }
   ],
   "source": [
    "# Division assignment\n",
    "x /= 3\n",
    "print(f\"x /= 3 -> x = {x}\")  # Output: x = 5.0"
   ]
  },
  {
   "cell_type": "code",
   "execution_count": 34,
   "id": "be5efde6-5d5a-4f40-be8b-3fe9b01cf528",
   "metadata": {},
   "outputs": [
    {
     "name": "stdout",
     "output_type": "stream",
     "text": [
      "x **= 3 -> x = 125\n"
     ]
    }
   ],
   "source": [
    "# Exponentiation assignment\n",
    "x = 5  # Resetting x for the example\n",
    "x **= 3\n",
    "print(f\"x **= 3 -> x = {x}\")  # Output: x = 125"
   ]
  },
  {
   "cell_type": "code",
   "execution_count": 35,
   "id": "1062a5a2-6ad8-46d5-97f4-5bf26197cb10",
   "metadata": {},
   "outputs": [
    {
     "name": "stdout",
     "output_type": "stream",
     "text": [
      "x |= 3 -> x = 7\n"
     ]
    }
   ],
   "source": [
    "# Bitwise OR assignment\n",
    "x = 5  # Resetting x for the example\n",
    "x |= 3\n",
    "print(f\"x |= 3 -> x = {x}\")  # Output: x = 7"
   ]
  },
  {
   "cell_type": "code",
   "execution_count": 36,
   "id": "f59e0370-5768-4365-b9b6-b051af1e315c",
   "metadata": {},
   "outputs": [
    {
     "name": "stdout",
     "output_type": "stream",
     "text": [
      "x <<= 3 -> x = 40\n"
     ]
    }
   ],
   "source": [
    "# Bitwise left shift assignment\n",
    "x = 5  # Resetting x for the example\n",
    "x <<= 3\n",
    "print(f\"x <<= 3 -> x = {x}\")  # Output: x = 40"
   ]
  },
  {
   "cell_type": "markdown",
   "id": "98778eef-2dae-4769-892d-f8dd59d5c12e",
   "metadata": {},
   "source": [
    "- **Comparison Operators:** Comparison operators are used to compare two values:\n",
    "\n",
    "| **Operator** | **Name**                  | **Example** | **Description**                                              |\n",
    "|:------------:|:-------------------------:|:-----------:|:-------------------------------------------------------------:|\n",
    "| `==`         | Equal                     | `x == y`    | Returns `True` if `x` is equal to `y`.                        |\n",
    "| `!=`         | Not equal                 | `x != y`    | Returns `True` if `x` is not equal to `y`.                    |\n",
    "| `>`          | Greater than              | `x > y`     | Returns `True` if `x` is greater than `y`.                    |\n",
    "| `<`          | Less than                 | `x < y`     | Returns `True` if `x` is less than `y`.                       |\n",
    "| `<=`         | Less than or equal to     | `x <= y`    | Returns `True` if `x` is less than or equal to `y`.           |\n",
    "| `>=`         | Greater than or equal to  | `x >= y`    | Returns `True` if `x` is greater than or equal to `y`.        |"
   ]
  },
  {
   "cell_type": "code",
   "execution_count": 38,
   "id": "09415a00-91a2-481e-a783-294f9ddcfe91",
   "metadata": {},
   "outputs": [
    {
     "name": "stdout",
     "output_type": "stream",
     "text": [
      "Is a greater than b?: True\n"
     ]
    }
   ],
   "source": [
    "# for greater than comparison use >\n",
    "result = a > b\n",
    "print(f\"Is a greater than b?: {result}\")"
   ]
  },
  {
   "cell_type": "code",
   "execution_count": 39,
   "id": "51dfc565-07ca-4015-b6bf-1fbcd0862889",
   "metadata": {},
   "outputs": [
    {
     "name": "stdout",
     "output_type": "stream",
     "text": [
      "Is a equal to b?: False\n"
     ]
    }
   ],
   "source": [
    "# for equality comparison use ==\n",
    "result = a == b\n",
    "print(f\"Is a equal to b?: {result}\")"
   ]
  },
  {
   "cell_type": "code",
   "execution_count": null,
   "id": "f47a88ab-f9da-4597-9556-a1903484296f",
   "metadata": {},
   "outputs": [],
   "source": [
    "- **Logical Operators:**\n",
    "  - `and`\n",
    "  - `or`\n",
    "  - `not`"
   ]
  },
  {
   "cell_type": "code",
   "execution_count": 16,
   "id": "7c132191-9b0b-4ebb-a3b1-bdc4b7bdfb82",
   "metadata": {},
   "outputs": [
    {
     "name": "stdout",
     "output_type": "stream",
     "text": [
      "Logical AND between (a > 5) and (b < 5) is: True\n"
     ]
    }
   ],
   "source": [
    "# for logical AND operation use and\n",
    "result = (a > 5) and (b < 5)\n",
    "print(f\"Logical AND between (a > 5) and (b < 5) is: {result}\")"
   ]
  },
  {
   "cell_type": "markdown",
   "id": "26b27cc0-a5ce-4a55-a9a4-aaafd9d3fcf0",
   "metadata": {},
   "source": [
    "- **Identity Operators:**\n",
    "Identity operators compare the memory location of two objects:\n",
    "\n",
    "| **Operator** | **Name**    | **Example** | **Description**                                      |\n",
    "|:------------:|:-----------:|:-----------:|:----------------------------------------------------:|\n",
    "| `is`         | Is          | `x is y`    | Returns `True` if `x` and `y` are the same object.   |\n",
    "| `is not`     | Is not      | `x is not y`| Returns `True` if `x` and `y` are not the same object.|\n"
   ]
  },
  {
   "cell_type": "code",
   "execution_count": 41,
   "id": "de1dff79-2e33-46b1-ab12-b52fb43b3ac5",
   "metadata": {},
   "outputs": [],
   "source": [
    "a = [1, 2, 3]\n",
    "b = [1, 2, 3]\n",
    "c = a"
   ]
  },
  {
   "cell_type": "code",
   "execution_count": 42,
   "id": "1284680e-316e-4802-a1eb-d833324cb881",
   "metadata": {},
   "outputs": [
    {
     "name": "stdout",
     "output_type": "stream",
     "text": [
      "a is b -> False\n"
     ]
    }
   ],
   "source": [
    "# Is\n",
    "result = (a is b)\n",
    "print(f\"a is b -> {result}\")  # Output: False (different objects)"
   ]
  },
  {
   "cell_type": "code",
   "execution_count": 43,
   "id": "67abbf11-eef3-445f-8bf8-ff368ad6e569",
   "metadata": {},
   "outputs": [
    {
     "name": "stdout",
     "output_type": "stream",
     "text": [
      "a is not b -> True\n"
     ]
    }
   ],
   "source": [
    "# Is not\n",
    "result = (a is not b)\n",
    "print(f\"a is not b -> {result}\")  # Output: True (different objects)"
   ]
  },
  {
   "cell_type": "markdown",
   "id": "cb48046e-fe8f-4662-bfea-d60836fa6021",
   "metadata": {},
   "source": [
    "- **Membership Operators:**\n",
    "Membership operators test if a sequence contains a specified element:\n",
    "\n",
    "| **Operator** | **Name**    | **Example** | **Description**                                      |\n",
    "|:------------:|:-----------:|:-----------:|:----------------------------------------------------:|\n",
    "| `in`         | In          | `x in y`    | Returns `True` if `x` is present in `y`.             |\n",
    "| `not in`     | Not in      | `x not in y`| Returns `True` if `x` is not present in `y`.         |"
   ]
  },
  {
   "cell_type": "code",
   "execution_count": 44,
   "id": "474a069a-3201-4130-a74f-ef53f1c114bc",
   "metadata": {},
   "outputs": [],
   "source": [
    "my_list = [1, 2, 3, 4, 5]"
   ]
  },
  {
   "cell_type": "code",
   "execution_count": 45,
   "id": "d33c3145-7c6d-4c72-8cdb-db7438b57e89",
   "metadata": {},
   "outputs": [
    {
     "name": "stdout",
     "output_type": "stream",
     "text": [
      "3 in my_list -> True\n"
     ]
    }
   ],
   "source": [
    "# In\n",
    "result = (3 in my_list)\n",
    "print(f\"3 in my_list -> {result}\")  # Output: True"
   ]
  },
  {
   "cell_type": "code",
   "execution_count": 46,
   "id": "9dd1ab47-87ed-41a9-a7c2-8ea5e71879fb",
   "metadata": {},
   "outputs": [
    {
     "name": "stdout",
     "output_type": "stream",
     "text": [
      "6 not in my_list -> True\n"
     ]
    }
   ],
   "source": [
    "# Not in\n",
    "result = (6 not in my_list)\n",
    "print(f\"6 not in my_list -> {result}\")  # Output: True"
   ]
  },
  {
   "cell_type": "markdown",
   "id": "9ba5ca70-bc61-4bab-b55b-e627286a6e5b",
   "metadata": {},
   "source": [
    "***\n",
    "## 3. Input and Output\n",
    "- **Printing to the Console:** Using `print()` to display output.\n",
    "  ```python\n",
    "  print(\"Hello, World!\")\n",
    "  ```\n",
    "\n",
    "\n",
    "- **Getting User Input:** Introduce the `input()` function to accept user input.\n",
    "    ```python\n",
    "    name = input(\"Enter your name: \"))\n",
    "    ```"
   ]
  },
  {
   "cell_type": "code",
   "execution_count": 17,
   "id": "dca275cb-3fdf-4349-8f4b-c4736f3540b0",
   "metadata": {},
   "outputs": [
    {
     "name": "stdin",
     "output_type": "stream",
     "text": [
      "Enter your name:  debuGger404\n"
     ]
    },
    {
     "name": "stdout",
     "output_type": "stream",
     "text": [
      "Hello, debuGger404!\n"
     ]
    }
   ],
   "source": [
    "name = input(\"Enter your name: \")\n",
    "print(\"Hello, \" + name + \"!\")"
   ]
  },
  {
   "cell_type": "code",
   "execution_count": 18,
   "id": "1a7c16d8-97dd-422e-9298-edf194423651",
   "metadata": {},
   "outputs": [
    {
     "name": "stdin",
     "output_type": "stream",
     "text": [
      "Enter your Github Account Url:  https://github.com/deBUGger404\n"
     ]
    },
    {
     "name": "stdout",
     "output_type": "stream",
     "text": [
      "Hello, https://github.com/deBUGger404!\n"
     ]
    }
   ],
   "source": [
    "name = input(\"Enter your Github Account: \")\n",
    "print(\"Hello, \" + name + \"!\")"
   ]
  },
  {
   "cell_type": "markdown",
   "id": "54b7bbea-4320-4506-a250-c0c0084efbd5",
   "metadata": {},
   "source": [
    "***\n",
    "## 4. Comments\n",
    "- **Single-Line Comments:** Using # to add comments that Python will ignore \n",
    "    ```python\n",
    "    # This is a comment\n",
    "\n",
    "\n",
    "- **Multi-Line Comments:** Using triple quotes (`'''` or `\"\"\"`) for longer comments or documentation."
   ]
  },
  {
   "cell_type": "code",
   "execution_count": 19,
   "id": "02244945-0791-412a-86f8-196040dd1aae",
   "metadata": {},
   "outputs": [],
   "source": [
    "# This is a single-line comment"
   ]
  },
  {
   "cell_type": "code",
   "execution_count": 22,
   "id": "04208460-ac93-4ebc-8b46-2db7bed8aaa0",
   "metadata": {},
   "outputs": [
    {
     "data": {
      "text/plain": [
       "'\\nThis is a multi-line comment\\nthat spans multiple lines.\\n'"
      ]
     },
     "execution_count": 22,
     "metadata": {},
     "output_type": "execute_result"
    }
   ],
   "source": [
    "\"\"\"\n",
    "This is a multi-line comment\n",
    "that spans multiple lines.\n",
    "\"\"\"\n",
    "\n",
    "# This is a multi-line comment\n",
    "# that spans multiple lines."
   ]
  },
  {
   "cell_type": "markdown",
   "id": "b01788f6-b5d0-4a5b-b1b0-54d774a9df49",
   "metadata": {},
   "source": [
    "***\n",
    "## 5. Indentation and Code Blocks\n",
    "- Explain the importance of indentation in Python to define code blocks.\n",
    "- Show how Python uses indentation instead of curly braces `{}` to define the scope (e.g., within `if`, `for`, or `def` blocks)."
   ]
  },
  {
   "cell_type": "code",
   "execution_count": 24,
   "id": "e53e4a72-91ca-4ccc-ad22-659d53ec0af1",
   "metadata": {},
   "outputs": [
    {
     "ename": "IndentationError",
     "evalue": "expected an indented block after 'if' statement on line 3 (2372428600.py, line 4)",
     "output_type": "error",
     "traceback": [
      "\u001b[0;36m  Cell \u001b[0;32mIn[24], line 4\u001b[0;36m\u001b[0m\n\u001b[0;31m    print(\"x is greater than 5\")\u001b[0m\n\u001b[0m    ^\u001b[0m\n\u001b[0;31mIndentationError\u001b[0m\u001b[0;31m:\u001b[0m expected an indented block after 'if' statement on line 3\n"
     ]
    }
   ],
   "source": [
    "# if we not put indentation then it will give the error\n",
    "x = 10\n",
    "if x > 5:\n",
    "print(\"x is greater than 5\")\n",
    "else:\n",
    "    print(\"x is not greater than 5\")"
   ]
  },
  {
   "cell_type": "code",
   "execution_count": 25,
   "id": "53ac347b-cfdc-42a3-84de-ca2747963498",
   "metadata": {},
   "outputs": [
    {
     "name": "stdout",
     "output_type": "stream",
     "text": [
      "x is greater than 5\n"
     ]
    }
   ],
   "source": [
    "x = 10\n",
    "if x > 5:\n",
    "    print(\"x is greater than 5\")\n",
    "else:\n",
    "    print(\"x is not greater than 5\")"
   ]
  },
  {
   "cell_type": "markdown",
   "id": "a7f493bc-9586-49f3-8f60-0d5f558bdded",
   "metadata": {},
   "source": [
    "*In this tutorial, we covered the basics of Python syntax, including how to work with variables, different data types, and basic operators. We also explored how to handle input and output, the importance of comments for code readability, and how Python uses indentation to define code blocks. These fundamentals are the building blocks for writing clean and efficient Python code.*"
   ]
  },
  {
   "cell_type": "markdown",
   "id": "9b8d280f-a06a-415c-ae8e-e408565e3330",
   "metadata": {},
   "source": [
    "<div style=\"text-align: center;\">\n",
    "  <a href=\"https://github.com/deBUGger404\" target=\"_blank\">\n",
    "    <img src=\"../Data/happy_code.webp\" alt=\"Happy Code\" style=\"width:200px; border-radius:12px;\">\n",
    "  </a>\n",
    "</div>"
   ]
  }
 ],
 "metadata": {
  "kernelspec": {
   "display_name": "Python (ml_proj_env)",
   "language": "python",
   "name": "ml_proj_env"
  },
  "language_info": {
   "codemirror_mode": {
    "name": "ipython",
    "version": 3
   },
   "file_extension": ".py",
   "mimetype": "text/x-python",
   "name": "python",
   "nbconvert_exporter": "python",
   "pygments_lexer": "ipython3",
   "version": "3.12.4"
  }
 },
 "nbformat": 4,
 "nbformat_minor": 5
}
