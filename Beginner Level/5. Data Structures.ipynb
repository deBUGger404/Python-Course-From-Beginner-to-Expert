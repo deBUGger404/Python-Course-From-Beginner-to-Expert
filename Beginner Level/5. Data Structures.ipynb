{
 "cells": [
  {
   "cell_type": "markdown",
   "id": "5b49e2fd-deb5-4c8e-8af7-b540cbe4539c",
   "metadata": {},
   "source": [
    "### **Data Structures in Python** \n",
    "Data structures are essential tools in programming that allow you to store, organize, and manage data efficiently. Python provides several built-in data structures, each with unique features and use cases. Understanding these structures is crucial for writing effective and optimized code. \n",
    "#### **1. Lists** \n",
    "**Lists** are ordered, mutable collections that can store elements of different data types. They are one of the most commonly used data structures in Python. \n",
    "* **Creating a List:** You can create a list by placing elements within square brackets, separated by commas."
   ]
  },
  {
   "cell_type": "code",
   "execution_count": 1,
   "id": "d4dff607-ffb9-4778-b897-55d857ccc898",
   "metadata": {},
   "outputs": [
    {
     "name": "stdout",
     "output_type": "stream",
     "text": [
      "['apple', 'banana', 'cherry']\n"
     ]
    }
   ],
   "source": [
    "#example 1: Basic List\n",
    "\n",
    "fruits = [\"apple\", \"banana\", \"cherry\"]\n",
    "print(fruits)"
   ]
  },
  {
   "cell_type": "code",
   "execution_count": 2,
   "id": "2cf99f2f-0a99-42d1-923b-53f0420858d5",
   "metadata": {},
   "outputs": [
    {
     "name": "stdout",
     "output_type": "stream",
     "text": [
      "[1, 'hello', 3.14, True]\n"
     ]
    }
   ],
   "source": [
    "#example 2: List with Different Data Types\n",
    "\n",
    "mixed_list = [1, \"hello\", 3.14, True]\n",
    "print(mixed_list)"
   ]
  },
  {
   "cell_type": "markdown",
   "id": "92aa30e2-dd71-473a-bcd7-8a97cebecc5a",
   "metadata": {},
   "source": [
    "* **Accessing Elements:** List elements can be accessed using indexing, where the first element has an index of 0."
   ]
  },
  {
   "cell_type": "code",
   "execution_count": 3,
   "id": "d8ea6fd0-c5cd-44ed-acfa-824b6ec77bd2",
   "metadata": {},
   "outputs": [
    {
     "name": "stdout",
     "output_type": "stream",
     "text": [
      "apple\n",
      "cherry\n"
     ]
    }
   ],
   "source": [
    "#example 1: Accessing by Index\n",
    "\n",
    "print(fruits[0])\n",
    "print(fruits[2])"
   ]
  },
  {
   "cell_type": "code",
   "execution_count": 4,
   "id": "470fde8a-4648-4361-8017-f1b5276edff7",
   "metadata": {},
   "outputs": [
    {
     "name": "stdout",
     "output_type": "stream",
     "text": [
      "cherry\n"
     ]
    }
   ],
   "source": [
    "#example 2: Negative Indexing\n",
    "\n",
    "print(fruits[-1])"
   ]
  },
  {
   "cell_type": "markdown",
   "id": "77051096-da3a-4843-9bf4-f7be7cd6b148",
   "metadata": {},
   "source": [
    "* **Modifying Lists:** Lists are mutable, meaning you can change, add, or remove elements."
   ]
  },
  {
   "cell_type": "code",
   "execution_count": 5,
   "id": "299ddef9-ad9f-4698-a261-0739c480d74d",
   "metadata": {},
   "outputs": [
    {
     "name": "stdout",
     "output_type": "stream",
     "text": [
      "['apple', 'blueberry', 'cherry']\n"
     ]
    }
   ],
   "source": [
    "#example 1: Changing an Element\n",
    "\n",
    "fruits[1] = \"blueberry\"\n",
    "print(fruits)"
   ]
  },
  {
   "cell_type": "code",
   "execution_count": 6,
   "id": "963f5c85-8d59-4fa9-ab0d-0f186d9d8f04",
   "metadata": {},
   "outputs": [
    {
     "name": "stdout",
     "output_type": "stream",
     "text": [
      "['apple', 'blueberry', 'cherry', 'orange']\n"
     ]
    }
   ],
   "source": [
    "#example 2: Adding Elements\n",
    "\n",
    "fruits.append(\"orange\")\n",
    "print(fruits)"
   ]
  },
  {
   "cell_type": "code",
   "execution_count": 7,
   "id": "c868547b-a0f9-47c6-b4ec-b7179155aa48",
   "metadata": {},
   "outputs": [
    {
     "name": "stdout",
     "output_type": "stream",
     "text": [
      "['apple', 'banana', 'blueberry', 'cherry', 'orange']\n"
     ]
    }
   ],
   "source": [
    "fruits.insert(1, \"banana\")\n",
    "print(fruits)"
   ]
  },
  {
   "cell_type": "code",
   "execution_count": 8,
   "id": "97ab64ac-a54e-450b-9862-26a5c75c3157",
   "metadata": {},
   "outputs": [
    {
     "name": "stdout",
     "output_type": "stream",
     "text": [
      "['apple', 'banana', 'cherry', 'orange']\n"
     ]
    }
   ],
   "source": [
    "#example 3: Removing Elements\n",
    "\n",
    "fruits.remove(\"blueberry\")\n",
    "print(fruits)"
   ]
  },
  {
   "cell_type": "code",
   "execution_count": 10,
   "id": "53d3dc50-0cf4-4916-8059-8d4d5fb3147c",
   "metadata": {},
   "outputs": [
    {
     "name": "stdout",
     "output_type": "stream",
     "text": [
      "Initial List: ['apple', 'banana']\n",
      "Popped List: cherry\n"
     ]
    }
   ],
   "source": [
    "popped_fruit = fruits.pop()\n",
    "print('Initial List:', fruits)\n",
    "print('Popped List:', popped_fruit)"
   ]
  },
  {
   "cell_type": "markdown",
   "id": "3ded1165-2cdc-48e2-8d60-db6e494b5740",
   "metadata": {},
   "source": [
    "* **Slicing Lists:** You can access a range of elements using slicing."
   ]
  },
  {
   "cell_type": "code",
   "execution_count": 12,
   "id": "1df64d7d-5957-49a3-bb7a-69865439723a",
   "metadata": {},
   "outputs": [
    {
     "name": "stdout",
     "output_type": "stream",
     "text": [
      "['banana']\n"
     ]
    }
   ],
   "source": [
    "#example 1: Basic Slicing\n",
    "\n",
    "sublist = fruits[1:3]\n",
    "print(sublist)"
   ]
  },
  {
   "cell_type": "code",
   "execution_count": 13,
   "id": "c31d2139-ebcf-4883-818f-ec9616c1e8da",
   "metadata": {},
   "outputs": [
    {
     "name": "stdout",
     "output_type": "stream",
     "text": [
      "['apple']\n"
     ]
    }
   ],
   "source": [
    "#example 2: Slicing with Steps\n",
    "\n",
    "sublist = fruits[::2]\n",
    "print(sublist)"
   ]
  },
  {
   "cell_type": "code",
   "execution_count": 14,
   "id": "a0d97d3d-53fe-40e0-a3e6-b5e69f0b4173",
   "metadata": {},
   "outputs": [
    {
     "name": "stdout",
     "output_type": "stream",
     "text": [
      "['banana', 'apple']\n"
     ]
    }
   ],
   "source": [
    "#example 3: Reversing a List\n",
    "\n",
    "reversed_list = fruits[::-1]\n",
    "print(reversed_list)"
   ]
  },
  {
   "cell_type": "markdown",
   "id": "6888cd35-2185-4ac5-8d63-3ea66999c513",
   "metadata": {},
   "source": [
    "* **Looping Through a List:** Looping through a list allows you to access and perform operations on each element in the list sequentially."
   ]
  },
  {
   "cell_type": "code",
   "execution_count": 18,
   "id": "52183c83-01a5-4ae4-b242-3fc07a45d484",
   "metadata": {},
   "outputs": [
    {
     "name": "stdout",
     "output_type": "stream",
     "text": [
      "apple\n",
      "banana\n",
      "cherry\n"
     ]
    }
   ],
   "source": [
    "fruits = [\"apple\", \"banana\", \"cherry\"]\n",
    "\n",
    "for fruit in fruits:\n",
    "    print(fruit)"
   ]
  },
  {
   "cell_type": "markdown",
   "id": "522c1146-6172-42ad-a913-4b045515db3c",
   "metadata": {},
   "source": [
    "* **List Comprehension:** List comprehension is a concise way to create lists. It combines loops and conditional logic into a single line of code."
   ]
  },
  {
   "cell_type": "code",
   "execution_count": 19,
   "id": "88d67dfe-028d-401b-b968-27edb5a433cd",
   "metadata": {},
   "outputs": [
    {
     "name": "stdout",
     "output_type": "stream",
     "text": [
      "[5, 6, 6]\n"
     ]
    }
   ],
   "source": [
    "fruits = [\"apple\", \"banana\", \"cherry\"]\n",
    "\n",
    "fruit_lengths = [len(fruit) for fruit in fruits]\n",
    "print(fruit_lengths)"
   ]
  },
  {
   "cell_type": "markdown",
   "id": "d7dbe4a1-f28e-49d2-9986-e0bb54a85d33",
   "metadata": {},
   "source": [
    "## Python List Methods\n",
    "\n",
    "| **Method**      | **Description**                                            | **Example**                        |\n",
    "|:---------------:|:-----------------------------------------------------------|:-----------------------------------|\n",
    "| `append()`      | Adds an element to the end of the list.                    | `fruits.append(\"orange\")`          |\n",
    "| `extend()`      | Extends the list by appending elements from another list.  | `fruits.extend([\"mango\", \"grape\"])`|\n",
    "| `insert()`      | Inserts an element at a specified position.                | `fruits.insert(1, \"banana\")`       |\n",
    "| `remove()`      | Removes the first occurrence of an element in the list.    | `fruits.remove(\"banana\")`          |\n",
    "| `pop()`         | Removes the element at the specified position (or last).   | `fruits.pop(2)`                    |\n",
    "| `clear()`       | Removes all elements from the list.                        | `fruits.clear()`                   |\n",
    "| `index()`       | Returns the index of the first occurrence of an element.   | `fruits.index(\"apple\")`            |\n",
    "| `count()`       | Returns the number of occurrences of an element.           | `fruits.count(\"apple\")`            |\n",
    "| `sort()`        | Sorts the list in ascending order (or as specified).       | `fruits.sort()`                    |\n",
    "| `reverse()`     | Reverses the order of the list.                            | `fruits.reverse()`                 |\n",
    "| `copy()`        | Returns a shallow copy of the list.                        | `new_fruits = fruits.copy()`       |"
   ]
  },
  {
   "cell_type": "markdown",
   "id": "4a785fe2-d2a3-4487-812b-c32ea2a4fd55",
   "metadata": {},
   "source": [
    "#### **2. Tuples** \n",
    "**Tuples** are similar to lists, but they are immutable, meaning their elements cannot be changed after creation. Tuples are often used to store data that should not be modified. \n",
    "* **Creating a Tuple:** Tuples are created by placing elements inside parentheses, separated by commas."
   ]
  },
  {
   "cell_type": "code",
   "execution_count": 20,
   "id": "af7085a0-66a2-421a-9059-4a088a90cc11",
   "metadata": {},
   "outputs": [
    {
     "name": "stdout",
     "output_type": "stream",
     "text": [
      "(10, 20)\n"
     ]
    }
   ],
   "source": [
    "#example 1: Basic Tuple\n",
    "\n",
    "coordinates = (10, 20)\n",
    "print(coordinates)"
   ]
  },
  {
   "cell_type": "code",
   "execution_count": 21,
   "id": "bcf72068-1b98-4a5d-a2d2-59ec59a60cab",
   "metadata": {},
   "outputs": [
    {
     "name": "stdout",
     "output_type": "stream",
     "text": [
      "('Alice', 30, 'Engineer')\n"
     ]
    }
   ],
   "source": [
    "#example 2: Tuple with Mixed Data Types\n",
    "\n",
    "person = (\"Alice\", 30, \"Engineer\")\n",
    "print(person)"
   ]
  },
  {
   "cell_type": "markdown",
   "id": "920c2b26-a596-4366-822c-204b09d2dcaa",
   "metadata": {},
   "source": [
    "* **Accessing Elements:** Like lists, tuple elements can be accessed using indexing and slicing."
   ]
  },
  {
   "cell_type": "code",
   "execution_count": 22,
   "id": "f4921e9c-4601-4853-8c8b-0308c52cdb02",
   "metadata": {},
   "outputs": [
    {
     "name": "stdout",
     "output_type": "stream",
     "text": [
      "10\n",
      "30\n"
     ]
    }
   ],
   "source": [
    "#example 1: Indexing\n",
    "\n",
    "print(coordinates[0])\n",
    "print(person[1]) "
   ]
  },
  {
   "cell_type": "code",
   "execution_count": 23,
   "id": "03498852-d85a-4efc-953a-e85263bdc65e",
   "metadata": {},
   "outputs": [
    {
     "name": "stdout",
     "output_type": "stream",
     "text": [
      "('Alice', 30)\n"
     ]
    }
   ],
   "source": [
    "#example 2: Slicing\n",
    "\n",
    "print(person[:2]) "
   ]
  },
  {
   "cell_type": "markdown",
   "id": "a196a425-57c0-49a1-9874-cc03140bd4c2",
   "metadata": {},
   "source": [
    "* **Tuple Unpacking:** You can unpack the elements of a tuple into separate variables."
   ]
  },
  {
   "cell_type": "code",
   "execution_count": 24,
   "id": "ec2e4032-c62e-4ea7-ae89-4c532633bf7d",
   "metadata": {},
   "outputs": [
    {
     "name": "stdout",
     "output_type": "stream",
     "text": [
      "10\n",
      "20\n"
     ]
    }
   ],
   "source": [
    "#xample 1: Unpacking Tuple Elements\n",
    "\n",
    "x, y = coordinates\n",
    "print(x)\n",
    "print(y)"
   ]
  },
  {
   "cell_type": "code",
   "execution_count": 25,
   "id": "3b8f283f-92cb-4ce5-a558-d30f12853306",
   "metadata": {},
   "outputs": [
    {
     "name": "stdout",
     "output_type": "stream",
     "text": [
      "name: Alice\n",
      "age: 30\n",
      "profession: Engineer\n"
     ]
    }
   ],
   "source": [
    "#example 2: Unpacking with Multiple Variables\n",
    "\n",
    "name, age, profession = person\n",
    "print('name:', name)\n",
    "print('age:', age)\n",
    "print('profession:',profession) "
   ]
  },
  {
   "cell_type": "markdown",
   "id": "d94f130d-d490-4dcc-8633-1a06cd701ac5",
   "metadata": {},
   "source": [
    "* **Immutability of Tuples:** Unlike lists, tuples cannot be modified once created."
   ]
  },
  {
   "cell_type": "code",
   "execution_count": 26,
   "id": "408b8b4b-0d0d-47e9-9161-0624e9c598c0",
   "metadata": {},
   "outputs": [
    {
     "ename": "TypeError",
     "evalue": "'tuple' object does not support item assignment",
     "output_type": "error",
     "traceback": [
      "\u001b[0;31m---------------------------------------------------------------------------\u001b[0m",
      "\u001b[0;31mTypeError\u001b[0m                                 Traceback (most recent call last)",
      "Cell \u001b[0;32mIn[26], line 4\u001b[0m\n\u001b[1;32m      1\u001b[0m \u001b[38;5;66;03m#example: Attempting to Modify a Tuple\u001b[39;00m\n\u001b[1;32m      2\u001b[0m \n\u001b[1;32m      3\u001b[0m \u001b[38;5;66;03m# This will raise an error\u001b[39;00m\n\u001b[0;32m----> 4\u001b[0m \u001b[43mcoordinates\u001b[49m\u001b[43m[\u001b[49m\u001b[38;5;241;43m0\u001b[39;49m\u001b[43m]\u001b[49m \u001b[38;5;241m=\u001b[39m \u001b[38;5;241m15\u001b[39m\n",
      "\u001b[0;31mTypeError\u001b[0m: 'tuple' object does not support item assignment"
     ]
    }
   ],
   "source": [
    "#example: Attempting to Modify a Tuple\n",
    "\n",
    "# This will raise an error\n",
    "coordinates[0] = 15"
   ]
  },
  {
   "cell_type": "markdown",
   "id": "855569d8-86a1-4769-88db-b26f29253d53",
   "metadata": {},
   "source": [
    "## Python Tuple Methods\n",
    "\n",
    "| **Method**      | **Description**                                            | **Example**                        |\n",
    "|:---------------:|:-----------------------------------------------------------|:-----------------------------------|\n",
    "| `count()`       | Returns the number of occurrences of a specified element.  | `tup.count(2)`                     |\n",
    "| `index()`       | Returns the index of the first occurrence of a specified element. | `tup.index(3)`              |"
   ]
  },
  {
   "cell_type": "markdown",
   "id": "a13636fb-f8c1-41ae-abd6-1c302cff4155",
   "metadata": {},
   "source": [
    "> **Note:** Tuples are immutable, so they have fewer methods compared to lists. The `count()` and `index()` methods are the primary built-in methods available for tuples."
   ]
  },
  {
   "cell_type": "markdown",
   "id": "1893b744-85d4-40cc-8e7d-4f8d528377da",
   "metadata": {},
   "source": [
    "#### **3. Sets** \n",
    "**Sets** are unordered collections of unique elements. They are useful for eliminating duplicate values and performing set operations like union, intersection, and difference. \n",
    "* **Creating a Set:** Sets are created using curly braces or the `set()` function."
   ]
  },
  {
   "cell_type": "code",
   "execution_count": 38,
   "id": "d52b9e76-a0ad-4e2d-b885-62e05da4823f",
   "metadata": {},
   "outputs": [
    {
     "name": "stdout",
     "output_type": "stream",
     "text": [
      "{1, 2, 3, 4}\n"
     ]
    }
   ],
   "source": [
    "#example 1: Basic Set\n",
    "\n",
    "my_set = {1, 2, 3, 4, 4}\n",
    "print(my_set) "
   ]
  },
  {
   "cell_type": "code",
   "execution_count": 39,
   "id": "0c3d473c-6f42-4764-9adb-63cc9b4ec6b9",
   "metadata": {},
   "outputs": [
    {
     "name": "stdout",
     "output_type": "stream",
     "text": [
      "set()\n"
     ]
    }
   ],
   "source": [
    "#example 2: Creating an Empty Set\n",
    "\n",
    "empty_set = set()\n",
    "print(empty_set)"
   ]
  },
  {
   "cell_type": "markdown",
   "id": "affb27b0-3fdb-40db-a846-813e6338fdd4",
   "metadata": {},
   "source": [
    "* **Adding and Removing Elements:** You can add elements to a set using the `add()` method and remove elements using the `remove()` or `discard()` methods."
   ]
  },
  {
   "cell_type": "code",
   "execution_count": 40,
   "id": "673a4c31-0cc7-4883-887f-7d9ebea412cc",
   "metadata": {},
   "outputs": [
    {
     "name": "stdout",
     "output_type": "stream",
     "text": [
      "{1, 2, 3, 4, 5}\n"
     ]
    }
   ],
   "source": [
    "#example 1: Adding Elements\n",
    "\n",
    "my_set.add(5)\n",
    "print(my_set) "
   ]
  },
  {
   "cell_type": "code",
   "execution_count": 41,
   "id": "eac0b6c9-f2f3-40b8-b1b8-ac1017d45bc0",
   "metadata": {},
   "outputs": [
    {
     "name": "stdout",
     "output_type": "stream",
     "text": [
      "after remove: {1, 2, 4, 5}\n",
      "after discard: {1, 4, 5}\n",
      "after discard: {1, 4, 5}\n"
     ]
    }
   ],
   "source": [
    "#example 2: Removing Elements\n",
    "\n",
    "my_set.remove(3)\n",
    "print('after remove:', my_set)\n",
    "\n",
    "my_set.discard(2)\n",
    "print('after discard:', my_set)\n",
    "\n",
    "my_set.discard(10) # No error if element doesn't exist\n",
    "print('after discard:', my_set)"
   ]
  },
  {
   "cell_type": "markdown",
   "id": "6cc108c4-145a-4a27-aa93-5b74f41a3b23",
   "metadata": {},
   "source": [
    "* **Set Operations:** Sets support mathematical operations like union, intersection, and difference."
   ]
  },
  {
   "cell_type": "code",
   "execution_count": 42,
   "id": "44ad332c-71df-46f6-a480-d168dbe9b9c5",
   "metadata": {},
   "outputs": [
    {
     "name": "stdout",
     "output_type": "stream",
     "text": [
      "{1, 2, 3, 4, 5}\n"
     ]
    }
   ],
   "source": [
    "#example 1: Union of Sets\n",
    "\n",
    "set_a = {1, 2, 3}\n",
    "set_b = {3, 4, 5}\n",
    "union_set = set_a | set_b\n",
    "print(union_set) "
   ]
  },
  {
   "cell_type": "code",
   "execution_count": 43,
   "id": "2ecfe8d7-88d1-4805-a6ff-94e95cc5396a",
   "metadata": {},
   "outputs": [
    {
     "name": "stdout",
     "output_type": "stream",
     "text": [
      "{3}\n"
     ]
    }
   ],
   "source": [
    "#example 2: Intersection of Sets\n",
    "\n",
    "intersection_set = set_a & set_b\n",
    "print(intersection_set)"
   ]
  },
  {
   "cell_type": "code",
   "execution_count": 44,
   "id": "01dedc3f-e5a5-4b4c-a8e4-352fe85ac023",
   "metadata": {},
   "outputs": [
    {
     "name": "stdout",
     "output_type": "stream",
     "text": [
      "{1, 2}\n"
     ]
    }
   ],
   "source": [
    "#example 3: Difference of Sets\n",
    "\n",
    "difference_set = set_a - set_b\n",
    "print(difference_set) "
   ]
  },
  {
   "cell_type": "markdown",
   "id": "376c8392-3385-487d-8c97-e0bcee5b53c9",
   "metadata": {},
   "source": [
    "## Python Set Methods\n",
    "\n",
    "| **Method**        | **Description**                                                   | **Example**                            |\n",
    "|:-----------------:|:------------------------------------------------------------------|:---------------------------------------|\n",
    "| `add()`           | Adds an element to the set.                                       | `my_set.add(4)`                        |\n",
    "| `update()`        | Updates the set with elements from another set or iterable.       | `my_set.update([1, 2, 3])`             |\n",
    "| `remove()`        | Removes the specified element from the set.                       | `my_set.remove(2)`                     |\n",
    "| `discard()`       | Removes the specified element from the set if it is present.      | `my_set.discard(2)`                    |\n",
    "| `pop()`           | Removes and returns an arbitrary element from the set.            | `my_set.pop()`                         |\n",
    "| `clear()`         | Removes all elements from the set.                                | `my_set.clear()`                       |\n",
    "| `union()`         | Returns a set that is the union of two sets.                      | `set1.union(set2)`                     |\n",
    "| `intersection()`  | Returns a set that is the intersection of two sets.               | `set1.intersection(set2)`              |\n",
    "| `difference()`    | Returns a set with elements in the set that are not in the other. | `set1.difference(set2)`                |\n",
    "| `symmetric_difference()` | Returns a set with elements in either set but not both.   | `set1.symmetric_difference(set2)`      |\n",
    "| `issubset()`      | Returns `True` if the set is a subset of another set.             | `set1.issubset(set2)`                  |\n",
    "| `issuperset()`    | Returns `True` if the set is a superset of another set.           | `set1.issuperset(set2)`                |\n",
    "| `isdisjoint()`    | Returns `True` if two sets have no elements in common.            | `set1.isdisjoint(set2)`                |\n",
    "| `copy()`          | Returns a shallow copy of the set.                                | `new_set = my_set.copy()`              |"
   ]
  },
  {
   "cell_type": "markdown",
   "id": "c1d64d4d-3f67-4c48-b5ad-a08742ac36c0",
   "metadata": {},
   "source": [
    "#### **4. Dictionaries** \n",
    "**Dictionaries** are unordered collections of key-value pairs. They are highly efficient for storing and retrieving data based on a unique key. \n",
    "* **Creating a Dictionary:** Dictionaries are created using curly braces with key-value pairs separated by colons."
   ]
  },
  {
   "cell_type": "code",
   "execution_count": 45,
   "id": "76456f0e-dd9f-4f36-b74c-b280e205b72b",
   "metadata": {},
   "outputs": [
    {
     "name": "stdout",
     "output_type": "stream",
     "text": [
      "{'name': 'Alice', 'age': 25, 'major': 'Physics'}\n"
     ]
    }
   ],
   "source": [
    "#example 1: Basic Dictionary\n",
    "\n",
    "student = {\"name\": \"Alice\", \"age\": 25, \"major\": \"Physics\"}\n",
    "print(student)"
   ]
  },
  {
   "cell_type": "code",
   "execution_count": 46,
   "id": "5a54b51f-fbd9-4890-94ad-03acd26f36f5",
   "metadata": {},
   "outputs": [
    {
     "name": "stdout",
     "output_type": "stream",
     "text": [
      "{}\n"
     ]
    }
   ],
   "source": [
    "#example 2: Creating an Empty Dictionary\n",
    "\n",
    "empty_dict = {}\n",
    "print(empty_dict)"
   ]
  },
  {
   "cell_type": "markdown",
   "id": "b55809ea-9114-4254-b9fa-19650789c7fc",
   "metadata": {},
   "source": [
    "* **Accessing and Modifying Values:** Dictionary values can be accessed and modified using their keys.\n"
   ]
  },
  {
   "cell_type": "code",
   "execution_count": 48,
   "id": "f648e1a4-7aca-475d-97fc-cc1614244acb",
   "metadata": {},
   "outputs": [
    {
     "name": "stdout",
     "output_type": "stream",
     "text": [
      "Alice\n",
      "25\n"
     ]
    }
   ],
   "source": [
    "#example 1: Accessing Values\n",
    "\n",
    "print(student[\"name\"])\n",
    "print(student.get(\"age\")) "
   ]
  },
  {
   "cell_type": "code",
   "execution_count": 49,
   "id": "8b39c335-cd69-4a3a-9094-3b0aec4df319",
   "metadata": {},
   "outputs": [
    {
     "name": "stdout",
     "output_type": "stream",
     "text": [
      "{'name': 'Alice', 'age': 26, 'major': 'Physics'}\n"
     ]
    }
   ],
   "source": [
    "#example 2: Modifying Values\n",
    "\n",
    "student[\"age\"] = 26\n",
    "print(student)"
   ]
  },
  {
   "cell_type": "code",
   "execution_count": 50,
   "id": "1c234575-9b50-4b8d-9adc-8a3580e33eb0",
   "metadata": {},
   "outputs": [
    {
     "name": "stdout",
     "output_type": "stream",
     "text": [
      "{'name': 'Alice', 'age': 26, 'major': 'Physics', 'GPA': 3.8}\n"
     ]
    }
   ],
   "source": [
    "#example 3: Adding New Key-Value Pairs\n",
    "\n",
    "student[\"GPA\"] = 3.8\n",
    "print(student) "
   ]
  },
  {
   "cell_type": "markdown",
   "id": "6edfeb43-c430-435a-bc59-1a0a4028ae0b",
   "metadata": {},
   "source": [
    "* **Removing Elements:** You can remove elements from a dictionary using the `pop()` method or `del` statement."
   ]
  },
  {
   "cell_type": "code",
   "execution_count": 51,
   "id": "19dbc63f-ffbc-44a7-b650-a0048cc4bda2",
   "metadata": {},
   "outputs": [
    {
     "name": "stdout",
     "output_type": "stream",
     "text": [
      "{'name': 'Alice', 'age': 26, 'GPA': 3.8}\n",
      "Physics\n"
     ]
    }
   ],
   "source": [
    "#example 1: Using pop() Method\n",
    "\n",
    "major = student.pop(\"major\")\n",
    "print(student)\n",
    "print(major)"
   ]
  },
  {
   "cell_type": "code",
   "execution_count": 52,
   "id": "5968e111-f3f4-4327-85bd-4e326ad9bf07",
   "metadata": {},
   "outputs": [
    {
     "name": "stdout",
     "output_type": "stream",
     "text": [
      "{'name': 'Alice', 'age': 26}\n"
     ]
    }
   ],
   "source": [
    "#example 2: Using del Statement\n",
    "\n",
    "del student[\"GPA\"]\n",
    "print(student)"
   ]
  },
  {
   "cell_type": "markdown",
   "id": "95e8a53f-aef7-442c-b11b-56b4bf1af2ae",
   "metadata": {},
   "source": [
    "* **Looping Through a Dictionary:** You can iterate over keys, values, or both in a dictionary."
   ]
  },
  {
   "cell_type": "code",
   "execution_count": 53,
   "id": "1e29827c-9055-49cc-ba7d-68d8635e0e4b",
   "metadata": {},
   "outputs": [
    {
     "name": "stdout",
     "output_type": "stream",
     "text": [
      "name\n",
      "age\n"
     ]
    }
   ],
   "source": [
    "#example 1: Looping Through Keys\n",
    "\n",
    "for key in student:\n",
    "    print(key)"
   ]
  },
  {
   "cell_type": "code",
   "execution_count": 54,
   "id": "01cffb1a-36ef-439e-9e40-efc94e2454c6",
   "metadata": {},
   "outputs": [
    {
     "name": "stdout",
     "output_type": "stream",
     "text": [
      "Alice\n",
      "26\n"
     ]
    }
   ],
   "source": [
    "#example 2: Looping Through Values\n",
    "\n",
    "for value in student.values():\n",
    "    print(value)"
   ]
  },
  {
   "cell_type": "code",
   "execution_count": 55,
   "id": "e7e93617-0cce-4332-ac33-2ae9bf708793",
   "metadata": {},
   "outputs": [
    {
     "name": "stdout",
     "output_type": "stream",
     "text": [
      "name: Alice\n",
      "age: 26\n"
     ]
    }
   ],
   "source": [
    "#example 3: Looping Through Key-Value Pairs\n",
    "\n",
    "for key, value in student.items():\n",
    "    print(f\"{key}: {value}\")"
   ]
  },
  {
   "cell_type": "markdown",
   "id": "735b80ea-8c25-4b3e-9f43-e0c8f288bbf4",
   "metadata": {},
   "source": [
    "## Python Dictionary Methods\n",
    "\n",
    "| **Method**        | **Description**                                                   | **Example**                                 |\n",
    "|:-----------------:|:------------------------------------------------------------------|:--------------------------------------------|\n",
    "| `clear()`         | Removes all elements from the dictionary.                         | `my_dict.clear()`                           |\n",
    "| `copy()`          | Returns a shallow copy of the dictionary.                         | `new_dict = my_dict.copy()`                 |\n",
    "| `fromkeys()`      | Creates a new dictionary from the given sequence of keys.         | `dict.fromkeys(['a', 'b'], 0)`              |\n",
    "| `get()`           | Returns the value for a specified key if the key is in the dictionary. | `my_dict.get('key')`                    |\n",
    "| `items()`         | Returns a view object of the dictionary's key-value pairs.        | `my_dict.items()`                           |\n",
    "| `keys()`          | Returns a view object of the dictionary's keys.                   | `my_dict.keys()`                            |\n",
    "| `pop()`           | Removes the element with the specified key and returns its value. | `my_dict.pop('key')`                        |\n",
    "| `popitem()`       | Removes the last inserted key-value pair and returns it.          | `my_dict.popitem()`                         |\n",
    "| `setdefault()`    | Returns the value of a specified key. If the key does not exist, inserts the key with a specified value. | `my_dict.setdefault('key', 'value')` |\n",
    "| `update()`        | Updates the dictionary with elements from another dictionary or iterable. | `my_dict.update({'key': 'value'})`      |\n",
    "| `values()`        | Returns a view object of the dictionary's values.                 | `my_dict.values()`                          |\n"
   ]
  },
  {
   "cell_type": "markdown",
   "id": "f3f7bbc4-d036-43b5-8f61-f5af33038221",
   "metadata": {},
   "source": [
    "#### **5. Comprehensions** \n",
    "**Comprehensions** provide a concise way to create lists, dictionaries, and sets in Python. They can replace for-loops for simple operations, making your code more readable and Pythonic. \n",
    "* **List Comprehension:** List comprehensions provide an elegant way to create lists"
   ]
  },
  {
   "cell_type": "code",
   "execution_count": 56,
   "id": "61a5f779-b74c-4719-8578-e2c72a7b7116",
   "metadata": {},
   "outputs": [
    {
     "name": "stdout",
     "output_type": "stream",
     "text": [
      "[0, 1, 4, 9, 16]\n"
     ]
    }
   ],
   "source": [
    "#example 1: Basic List Comprehension\n",
    "\n",
    "squares = [x**2 for x in range(5)]\n",
    "print(squares)"
   ]
  },
  {
   "cell_type": "code",
   "execution_count": 60,
   "id": "5a108b12-4245-48af-834f-3f5529da822f",
   "metadata": {},
   "outputs": [
    {
     "name": "stdout",
     "output_type": "stream",
     "text": [
      "[0, 4, 16, 36, 64]\n"
     ]
    }
   ],
   "source": [
    "#example 2: List Comprehension with Condition\n",
    "\n",
    "even_squares = [x**2 for x in range(10) if x % 2 == 0]\n",
    "print(even_squares)"
   ]
  },
  {
   "cell_type": "markdown",
   "id": "f88431af-d5b1-4197-a255-6a4eae236045",
   "metadata": {},
   "source": [
    "* **Dictionary Comprehension:** Dictionary comprehensions are used to create dictionaries from an iterable."
   ]
  },
  {
   "cell_type": "code",
   "execution_count": 58,
   "id": "e53d948d-f6b4-467e-9d85-16d22f93f588",
   "metadata": {},
   "outputs": [
    {
     "name": "stdout",
     "output_type": "stream",
     "text": [
      "{0: 0, 1: 1, 2: 4, 3: 9, 4: 16}\n"
     ]
    }
   ],
   "source": [
    "#example 1: Basic Dictionary Comprehension\n",
    "\n",
    "square_dict = {x: x**2 for x in range(5)}\n",
    "print(square_dict)"
   ]
  },
  {
   "cell_type": "code",
   "execution_count": 59,
   "id": "c70e8d32-07b4-461f-9a2f-b0209a4a3812",
   "metadata": {},
   "outputs": [
    {
     "name": "stdout",
     "output_type": "stream",
     "text": [
      "{0: 0, 2: 4, 4: 16, 6: 36, 8: 64}\n"
     ]
    }
   ],
   "source": [
    "#Example 2: Conditional Dictionary Comprehension\n",
    "\n",
    "even_square_dict = {x: x**2 for x in range(10) if x % 2 == 0}\n",
    "print(even_square_dict)"
   ]
  },
  {
   "cell_type": "markdown",
   "id": "ec6be108-38df-4d9b-9174-477ecd8eb1d3",
   "metadata": {},
   "source": [
    "* **Set Comprehension:** Set comprehensions are used to create sets from an iterable."
   ]
  },
  {
   "cell_type": "code",
   "execution_count": 62,
   "id": "78a5d5d5-c506-4831-b3fa-8ba8001a59f0",
   "metadata": {},
   "outputs": [
    {
     "name": "stdout",
     "output_type": "stream",
     "text": [
      "{16, 1, 4, 9}\n"
     ]
    }
   ],
   "source": [
    "#example 1: Basic Set Comprehension\n",
    "\n",
    "unique_squares = {x**2 for x in [1, 2, 2, 3, 4, 4]}\n",
    "print(unique_squares) "
   ]
  },
  {
   "cell_type": "code",
   "execution_count": 63,
   "id": "51646630-c55a-4452-bd92-8091a73a13f0",
   "metadata": {},
   "outputs": [
    {
     "name": "stdout",
     "output_type": "stream",
     "text": [
      "{0, 64, 4, 36, 16}\n"
     ]
    }
   ],
   "source": [
    "#example 2: Set Comprehension with Condition\n",
    "\n",
    "even_unique_squares = {x**2 for x in range(10) if x % 2 == 0}\n",
    "print(even_unique_squares)"
   ]
  },
  {
   "cell_type": "markdown",
   "id": "ae17f876-8eba-4f30-985e-636c26335ec1",
   "metadata": {},
   "source": [
    "In this tutorial, we've explored the key data structures in Python, including `lists`, `tuples`, `sets`, and `dictionaries`, each with its unique features and use cases. We also covered comprehensions, which offer a concise way to create and manipulate these structures. Mastering these data structures is essential for efficient data management and manipulation in Python programming."
   ]
  },
  {
   "cell_type": "markdown",
   "id": "a1103fe3-1043-434a-9bbb-7ccecdd57457",
   "metadata": {},
   "source": [
    "<div style=\"text-align: center;\">\n",
    "  <a href=\"https://github.com/deBUGger404\" target=\"_blank\">\n",
    "    <img src=\"../Data/happy_code.webp\" alt=\"Happy Code\" style=\"width:200px; border-radius:12px;\">\n",
    "  </a>\n",
    "</div>"
   ]
  }
 ],
 "metadata": {
  "kernelspec": {
   "display_name": "Python (ml_proj_env)",
   "language": "python",
   "name": "ml_proj_env"
  },
  "language_info": {
   "codemirror_mode": {
    "name": "ipython",
    "version": 3
   },
   "file_extension": ".py",
   "mimetype": "text/x-python",
   "name": "python",
   "nbconvert_exporter": "python",
   "pygments_lexer": "ipython3",
   "version": "3.12.4"
  }
 },
 "nbformat": 4,
 "nbformat_minor": 5
}
